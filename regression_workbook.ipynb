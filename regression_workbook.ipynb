{
 "cells": [
  {
   "cell_type": "code",
   "execution_count": 1,
   "id": "a12a6791",
   "metadata": {},
   "outputs": [],
   "source": [
    "# files/modules\n",
    "from env import host, user, password\n",
    "import acquire as a\n",
    "\n",
    "# manipulations\n",
    "import pandas as pd\n",
    "import numpy as np\n",
    "\n",
    "# Viz\n",
    "import matplotlib.pyplot as plt\n",
    "import seaborn as sns"
   ]
  },
  {
   "cell_type": "markdown",
   "id": "b7933563",
   "metadata": {},
   "source": [
    "## Acquire\n",
    "'Basic' columns and then all of the columns for Zillow data (that meets parameters)"
   ]
  },
  {
   "cell_type": "code",
   "execution_count": 2,
   "id": "75b6b444",
   "metadata": {},
   "outputs": [
    {
     "name": "stdout",
     "output_type": "stream",
     "text": [
      "Acquiring data from SQL db\n"
     ]
    }
   ],
   "source": [
    "zillow = a.basic_acquire_zillow()"
   ]
  },
  {
   "cell_type": "code",
   "execution_count": 3,
   "id": "a0cb4a79",
   "metadata": {},
   "outputs": [
    {
     "name": "stdout",
     "output_type": "stream",
     "text": [
      "<class 'pandas.core.frame.DataFrame'>\n",
      "RangeIndex: 52441 entries, 0 to 52440\n",
      "Data columns (total 4 columns):\n",
      " #   Column     Non-Null Count  Dtype  \n",
      "---  ------     --------------  -----  \n",
      " 0   bedrooms   52441 non-null  float64\n",
      " 1   bathrooms  52441 non-null  float64\n",
      " 2   area       52359 non-null  float64\n",
      " 3   tax_value  52440 non-null  float64\n",
      "dtypes: float64(4)\n",
      "memory usage: 1.6 MB\n"
     ]
    }
   ],
   "source": [
    "zillow.info()"
   ]
  },
  {
   "cell_type": "code",
   "execution_count": 4,
   "id": "98dc6948",
   "metadata": {},
   "outputs": [
    {
     "name": "stdout",
     "output_type": "stream",
     "text": [
      "Acquiring data from SQL db\n"
     ]
    }
   ],
   "source": [
    "zillow_l = a.larger_acquire_zillow()"
   ]
  },
  {
   "cell_type": "code",
   "execution_count": 5,
   "id": "57d8c694",
   "metadata": {},
   "outputs": [
    {
     "name": "stdout",
     "output_type": "stream",
     "text": [
      "<class 'pandas.core.frame.DataFrame'>\n",
      "RangeIndex: 52441 entries, 0 to 52440\n",
      "Data columns (total 63 columns):\n",
      " #   Column                        Non-Null Count  Dtype  \n",
      "---  ------                        --------------  -----  \n",
      " 0   parcelid                      52441 non-null  int64  \n",
      " 1   propertylandusetypeid         52441 non-null  float64\n",
      " 2   id                            52441 non-null  int64  \n",
      " 3   airconditioningtypeid         13638 non-null  float64\n",
      " 4   architecturalstyletypeid      70 non-null     float64\n",
      " 5   basementsqft                  47 non-null     float64\n",
      " 6   bathroomcnt                   52441 non-null  float64\n",
      " 7   bedroomcnt                    52441 non-null  float64\n",
      " 8   buildingclasstypeid           0 non-null      object \n",
      " 9   buildingqualitytypeid         33740 non-null  float64\n",
      " 10  calculatedbathnbr             52304 non-null  float64\n",
      " 11  decktypeid                    389 non-null    float64\n",
      " 12  finishedfloor1squarefeet      4381 non-null   float64\n",
      " 13  calculatedfinishedsquarefeet  52359 non-null  float64\n",
      " 14  finishedsquarefeet12          52194 non-null  float64\n",
      " 15  finishedsquarefeet13          0 non-null      object \n",
      " 16  finishedsquarefeet15          0 non-null      object \n",
      " 17  finishedsquarefeet50          4381 non-null   float64\n",
      " 18  finishedsquarefeet6           165 non-null    float64\n",
      " 19  fips                          52441 non-null  float64\n",
      " 20  fireplacecnt                  7243 non-null   float64\n",
      " 21  fullbathcnt                   52304 non-null  float64\n",
      " 22  garagecarcnt                  18015 non-null  float64\n",
      " 23  garagetotalsqft               18015 non-null  float64\n",
      " 24  hashottuborspa                1515 non-null   float64\n",
      " 25  heatingorsystemtypeid         33935 non-null  float64\n",
      " 26  latitude                      52441 non-null  float64\n",
      " 27  longitude                     52441 non-null  float64\n",
      " 28  lotsizesquarefeet             52072 non-null  float64\n",
      " 29  poolcnt                       11096 non-null  float64\n",
      " 30  poolsizesum                   867 non-null    float64\n",
      " 31  pooltypeid10                  444 non-null    float64\n",
      " 32  pooltypeid2                   1071 non-null   float64\n",
      " 33  pooltypeid7                   10009 non-null  float64\n",
      " 34  propertycountylandusecode     52441 non-null  object \n",
      " 35  propertyzoningdesc            33848 non-null  object \n",
      " 36  rawcensustractandblock        52441 non-null  float64\n",
      " 37  regionidcity                  51404 non-null  float64\n",
      " 38  regionidcounty                52441 non-null  float64\n",
      " 39  regionidneighborhood          19033 non-null  float64\n",
      " 40  regionidzip                   52415 non-null  float64\n",
      " 41  roomcnt                       52441 non-null  float64\n",
      " 42  storytypeid                   47 non-null     float64\n",
      " 43  threequarterbathnbr           6724 non-null   float64\n",
      " 44  typeconstructiontypeid        76 non-null     float64\n",
      " 45  unitcnt                       33847 non-null  float64\n",
      " 46  yardbuildingsqft17            1937 non-null   float64\n",
      " 47  yardbuildingsqft26            63 non-null     float64\n",
      " 48  yearbuilt                     52325 non-null  float64\n",
      " 49  numberofstories               14561 non-null  float64\n",
      " 50  fireplaceflag                 81 non-null     float64\n",
      " 51  structuretaxvaluedollarcnt    52357 non-null  float64\n",
      " 52  taxvaluedollarcnt             52440 non-null  float64\n",
      " 53  assessmentyear                52441 non-null  float64\n",
      " 54  landtaxvaluedollarcnt         52440 non-null  float64\n",
      " 55  taxamount                     52437 non-null  float64\n",
      " 56  taxdelinquencyflag            2079 non-null   object \n",
      " 57  taxdelinquencyyear            2079 non-null   float64\n",
      " 58  censustractandblock           52318 non-null  float64\n",
      " 59  propertylandusedesc           52441 non-null  object \n",
      " 60  id                            52441 non-null  int64  \n",
      " 61  logerror                      52441 non-null  float64\n",
      " 62  transactiondate               52441 non-null  object \n",
      "dtypes: float64(52), int64(3), object(8)\n",
      "memory usage: 25.2+ MB\n"
     ]
    }
   ],
   "source": [
    "zillow_l.info()"
   ]
  },
  {
   "cell_type": "markdown",
   "id": "9774b8b1",
   "metadata": {},
   "source": [
    "## Preparation/Splitting\n"
   ]
  },
  {
   "cell_type": "code",
   "execution_count": 8,
   "id": "4fb807b1",
   "metadata": {},
   "outputs": [
    {
     "data": {
      "text/plain": [
       "bedrooms      0\n",
       "bathrooms     0\n",
       "area         82\n",
       "tax_value     1\n",
       "dtype: int64"
      ]
     },
     "execution_count": 8,
     "metadata": {},
     "output_type": "execute_result"
    }
   ],
   "source": [
    "# looking at null counts\n",
    "zillow.isnull().sum()"
   ]
  },
  {
   "cell_type": "code",
   "execution_count": 9,
   "id": "b96949ac",
   "metadata": {},
   "outputs": [
    {
     "data": {
      "text/plain": [
       "parcelid                        0\n",
       "propertylandusetypeid           0\n",
       "id                              0\n",
       "airconditioningtypeid       38803\n",
       "architecturalstyletypeid    52371\n",
       "                            ...  \n",
       "censustractandblock           123\n",
       "propertylandusedesc             0\n",
       "id                              0\n",
       "logerror                        0\n",
       "transactiondate                 0\n",
       "Length: 63, dtype: int64"
      ]
     },
     "execution_count": 9,
     "metadata": {},
     "output_type": "execute_result"
    }
   ],
   "source": [
    "zillow_l.isnull().sum()"
   ]
  },
  {
   "cell_type": "code",
   "execution_count": 10,
   "id": "9f317168",
   "metadata": {},
   "outputs": [],
   "source": [
    "# The nulls for aircondition and architecture are so large, going to drop columns entirely. Also dropping \n",
    "# landtaxvaluedollarcnt, structuretaxvaluedollarcnt, and taxamount for target variable (taxvaluedollarcnt) integrity."
   ]
  },
  {
   "cell_type": "code",
   "execution_count": 11,
   "id": "97619084",
   "metadata": {},
   "outputs": [],
   "source": [
    "zillow_l = zillow_l.drop(columns= ['airconditioningtypeid', 'architecturalstyletypeid', 'landtaxvaluedollarcnt',\n",
    "                                  'structuretaxvaluedollarcnt', 'taxamount'])"
   ]
  },
  {
   "cell_type": "code",
   "execution_count": 30,
   "id": "cd5ad6f7",
   "metadata": {},
   "outputs": [],
   "source": [
    "nulls_tax = zillow[zillow.tax_value.isna()]"
   ]
  },
  {
   "cell_type": "code",
   "execution_count": 32,
   "id": "555eeae2",
   "metadata": {},
   "outputs": [],
   "source": [
    "nulls_area = zillow[zillow.area.isna()]"
   ]
  },
  {
   "cell_type": "code",
   "execution_count": 36,
   "id": "fbdbf70b",
   "metadata": {},
   "outputs": [
    {
     "data": {
      "text/plain": [
       "bedrooms  bathrooms  area  tax_value\n",
       "0.0       0.0        NaN   5346951.0    2\n",
       "                           7771.0       1\n",
       "                           3136161.0    1\n",
       "                           2979077.0    1\n",
       "                           2909706.0    1\n",
       "                                       ..\n",
       "                           544456.0     1\n",
       "                           468439.0     1\n",
       "                           422962.0     1\n",
       "                           406100.0     1\n",
       "5.0       4.5        NaN   1461048.0    1\n",
       "Length: 81, dtype: int64"
      ]
     },
     "execution_count": 36,
     "metadata": {},
     "output_type": "execute_result"
    }
   ],
   "source": [
    "nulls_area.value_counts(dropna=False)"
   ]
  },
  {
   "cell_type": "code",
   "execution_count": 37,
   "id": "5e20a0e8",
   "metadata": {},
   "outputs": [
    {
     "data": {
      "text/html": [
       "<div>\n",
       "<style scoped>\n",
       "    .dataframe tbody tr th:only-of-type {\n",
       "        vertical-align: middle;\n",
       "    }\n",
       "\n",
       "    .dataframe tbody tr th {\n",
       "        vertical-align: top;\n",
       "    }\n",
       "\n",
       "    .dataframe thead th {\n",
       "        text-align: right;\n",
       "    }\n",
       "</style>\n",
       "<table border=\"1\" class=\"dataframe\">\n",
       "  <thead>\n",
       "    <tr style=\"text-align: right;\">\n",
       "      <th></th>\n",
       "      <th>bedrooms</th>\n",
       "      <th>bathrooms</th>\n",
       "      <th>area</th>\n",
       "      <th>tax_value</th>\n",
       "    </tr>\n",
       "  </thead>\n",
       "  <tbody>\n",
       "    <tr>\n",
       "      <th>124</th>\n",
       "      <td>0.0</td>\n",
       "      <td>0.0</td>\n",
       "      <td>NaN</td>\n",
       "      <td>830145.0</td>\n",
       "    </tr>\n",
       "    <tr>\n",
       "      <th>3322</th>\n",
       "      <td>0.0</td>\n",
       "      <td>0.0</td>\n",
       "      <td>NaN</td>\n",
       "      <td>643406.0</td>\n",
       "    </tr>\n",
       "    <tr>\n",
       "      <th>4465</th>\n",
       "      <td>2.0</td>\n",
       "      <td>1.0</td>\n",
       "      <td>NaN</td>\n",
       "      <td>488078.0</td>\n",
       "    </tr>\n",
       "    <tr>\n",
       "      <th>4605</th>\n",
       "      <td>0.0</td>\n",
       "      <td>0.0</td>\n",
       "      <td>NaN</td>\n",
       "      <td>2909706.0</td>\n",
       "    </tr>\n",
       "    <tr>\n",
       "      <th>5065</th>\n",
       "      <td>0.0</td>\n",
       "      <td>0.0</td>\n",
       "      <td>NaN</td>\n",
       "      <td>5080924.0</td>\n",
       "    </tr>\n",
       "    <tr>\n",
       "      <th>5379</th>\n",
       "      <td>0.0</td>\n",
       "      <td>0.0</td>\n",
       "      <td>NaN</td>\n",
       "      <td>2979077.0</td>\n",
       "    </tr>\n",
       "    <tr>\n",
       "      <th>5558</th>\n",
       "      <td>0.0</td>\n",
       "      <td>0.0</td>\n",
       "      <td>NaN</td>\n",
       "      <td>178684.0</td>\n",
       "    </tr>\n",
       "    <tr>\n",
       "      <th>5767</th>\n",
       "      <td>0.0</td>\n",
       "      <td>0.0</td>\n",
       "      <td>NaN</td>\n",
       "      <td>6900769.0</td>\n",
       "    </tr>\n",
       "    <tr>\n",
       "      <th>6592</th>\n",
       "      <td>0.0</td>\n",
       "      <td>0.0</td>\n",
       "      <td>NaN</td>\n",
       "      <td>375218.0</td>\n",
       "    </tr>\n",
       "    <tr>\n",
       "      <th>7350</th>\n",
       "      <td>0.0</td>\n",
       "      <td>0.0</td>\n",
       "      <td>NaN</td>\n",
       "      <td>2504615.0</td>\n",
       "    </tr>\n",
       "    <tr>\n",
       "      <th>7433</th>\n",
       "      <td>0.0</td>\n",
       "      <td>0.0</td>\n",
       "      <td>NaN</td>\n",
       "      <td>656601.0</td>\n",
       "    </tr>\n",
       "    <tr>\n",
       "      <th>7498</th>\n",
       "      <td>0.0</td>\n",
       "      <td>0.0</td>\n",
       "      <td>NaN</td>\n",
       "      <td>4619789.0</td>\n",
       "    </tr>\n",
       "    <tr>\n",
       "      <th>7797</th>\n",
       "      <td>0.0</td>\n",
       "      <td>0.0</td>\n",
       "      <td>NaN</td>\n",
       "      <td>16477.0</td>\n",
       "    </tr>\n",
       "    <tr>\n",
       "      <th>7877</th>\n",
       "      <td>0.0</td>\n",
       "      <td>0.0</td>\n",
       "      <td>NaN</td>\n",
       "      <td>38206.0</td>\n",
       "    </tr>\n",
       "    <tr>\n",
       "      <th>8853</th>\n",
       "      <td>0.0</td>\n",
       "      <td>0.0</td>\n",
       "      <td>NaN</td>\n",
       "      <td>973624.0</td>\n",
       "    </tr>\n",
       "    <tr>\n",
       "      <th>9001</th>\n",
       "      <td>0.0</td>\n",
       "      <td>0.0</td>\n",
       "      <td>NaN</td>\n",
       "      <td>26405.0</td>\n",
       "    </tr>\n",
       "    <tr>\n",
       "      <th>10061</th>\n",
       "      <td>0.0</td>\n",
       "      <td>0.0</td>\n",
       "      <td>NaN</td>\n",
       "      <td>1575136.0</td>\n",
       "    </tr>\n",
       "    <tr>\n",
       "      <th>10199</th>\n",
       "      <td>0.0</td>\n",
       "      <td>0.0</td>\n",
       "      <td>NaN</td>\n",
       "      <td>3491679.0</td>\n",
       "    </tr>\n",
       "    <tr>\n",
       "      <th>10389</th>\n",
       "      <td>0.0</td>\n",
       "      <td>0.0</td>\n",
       "      <td>NaN</td>\n",
       "      <td>2798542.0</td>\n",
       "    </tr>\n",
       "    <tr>\n",
       "      <th>10438</th>\n",
       "      <td>0.0</td>\n",
       "      <td>0.0</td>\n",
       "      <td>NaN</td>\n",
       "      <td>3081000.0</td>\n",
       "    </tr>\n",
       "    <tr>\n",
       "      <th>10900</th>\n",
       "      <td>2.0</td>\n",
       "      <td>1.5</td>\n",
       "      <td>NaN</td>\n",
       "      <td>719590.0</td>\n",
       "    </tr>\n",
       "    <tr>\n",
       "      <th>10959</th>\n",
       "      <td>0.0</td>\n",
       "      <td>0.0</td>\n",
       "      <td>NaN</td>\n",
       "      <td>689927.0</td>\n",
       "    </tr>\n",
       "    <tr>\n",
       "      <th>11475</th>\n",
       "      <td>0.0</td>\n",
       "      <td>0.0</td>\n",
       "      <td>NaN</td>\n",
       "      <td>1154101.0</td>\n",
       "    </tr>\n",
       "    <tr>\n",
       "      <th>11646</th>\n",
       "      <td>0.0</td>\n",
       "      <td>0.0</td>\n",
       "      <td>NaN</td>\n",
       "      <td>2074884.0</td>\n",
       "    </tr>\n",
       "    <tr>\n",
       "      <th>12740</th>\n",
       "      <td>2.0</td>\n",
       "      <td>1.0</td>\n",
       "      <td>NaN</td>\n",
       "      <td>400778.0</td>\n",
       "    </tr>\n",
       "    <tr>\n",
       "      <th>12835</th>\n",
       "      <td>0.0</td>\n",
       "      <td>0.0</td>\n",
       "      <td>NaN</td>\n",
       "      <td>174010.0</td>\n",
       "    </tr>\n",
       "    <tr>\n",
       "      <th>13429</th>\n",
       "      <td>0.0</td>\n",
       "      <td>0.0</td>\n",
       "      <td>NaN</td>\n",
       "      <td>422962.0</td>\n",
       "    </tr>\n",
       "    <tr>\n",
       "      <th>13640</th>\n",
       "      <td>0.0</td>\n",
       "      <td>0.0</td>\n",
       "      <td>NaN</td>\n",
       "      <td>5346951.0</td>\n",
       "    </tr>\n",
       "    <tr>\n",
       "      <th>13641</th>\n",
       "      <td>0.0</td>\n",
       "      <td>0.0</td>\n",
       "      <td>NaN</td>\n",
       "      <td>5346951.0</td>\n",
       "    </tr>\n",
       "    <tr>\n",
       "      <th>15265</th>\n",
       "      <td>0.0</td>\n",
       "      <td>0.0</td>\n",
       "      <td>NaN</td>\n",
       "      <td>2262676.0</td>\n",
       "    </tr>\n",
       "  </tbody>\n",
       "</table>\n",
       "</div>"
      ],
      "text/plain": [
       "       bedrooms  bathrooms  area  tax_value\n",
       "124         0.0        0.0   NaN   830145.0\n",
       "3322        0.0        0.0   NaN   643406.0\n",
       "4465        2.0        1.0   NaN   488078.0\n",
       "4605        0.0        0.0   NaN  2909706.0\n",
       "5065        0.0        0.0   NaN  5080924.0\n",
       "5379        0.0        0.0   NaN  2979077.0\n",
       "5558        0.0        0.0   NaN   178684.0\n",
       "5767        0.0        0.0   NaN  6900769.0\n",
       "6592        0.0        0.0   NaN   375218.0\n",
       "7350        0.0        0.0   NaN  2504615.0\n",
       "7433        0.0        0.0   NaN   656601.0\n",
       "7498        0.0        0.0   NaN  4619789.0\n",
       "7797        0.0        0.0   NaN    16477.0\n",
       "7877        0.0        0.0   NaN    38206.0\n",
       "8853        0.0        0.0   NaN   973624.0\n",
       "9001        0.0        0.0   NaN    26405.0\n",
       "10061       0.0        0.0   NaN  1575136.0\n",
       "10199       0.0        0.0   NaN  3491679.0\n",
       "10389       0.0        0.0   NaN  2798542.0\n",
       "10438       0.0        0.0   NaN  3081000.0\n",
       "10900       2.0        1.5   NaN   719590.0\n",
       "10959       0.0        0.0   NaN   689927.0\n",
       "11475       0.0        0.0   NaN  1154101.0\n",
       "11646       0.0        0.0   NaN  2074884.0\n",
       "12740       2.0        1.0   NaN   400778.0\n",
       "12835       0.0        0.0   NaN   174010.0\n",
       "13429       0.0        0.0   NaN   422962.0\n",
       "13640       0.0        0.0   NaN  5346951.0\n",
       "13641       0.0        0.0   NaN  5346951.0\n",
       "15265       0.0        0.0   NaN  2262676.0"
      ]
     },
     "execution_count": 37,
     "metadata": {},
     "output_type": "execute_result"
    }
   ],
   "source": [
    "nulls_area.head(30)"
   ]
  },
  {
   "cell_type": "code",
   "execution_count": 38,
   "id": "a632d44e",
   "metadata": {},
   "outputs": [],
   "source": [
    "zillow = zillow.dropna()"
   ]
  },
  {
   "cell_type": "code",
   "execution_count": 39,
   "id": "a2918fef",
   "metadata": {},
   "outputs": [
    {
     "name": "stdout",
     "output_type": "stream",
     "text": [
      "<class 'pandas.core.frame.DataFrame'>\n",
      "Int64Index: 52358 entries, 0 to 52440\n",
      "Data columns (total 4 columns):\n",
      " #   Column     Non-Null Count  Dtype  \n",
      "---  ------     --------------  -----  \n",
      " 0   bedrooms   52358 non-null  float64\n",
      " 1   bathrooms  52358 non-null  float64\n",
      " 2   area       52358 non-null  float64\n",
      " 3   tax_value  52358 non-null  float64\n",
      "dtypes: float64(4)\n",
      "memory usage: 2.0 MB\n"
     ]
    }
   ],
   "source": [
    "zillow.info()"
   ]
  },
  {
   "cell_type": "code",
   "execution_count": 40,
   "id": "214f11d5",
   "metadata": {},
   "outputs": [],
   "source": [
    "# The nulls were largely from 0s in multiple columns, so dropped all nulls. Did not consider\n",
    "# worth imputing the data. Was also a very small portion of the total dataset."
   ]
  },
  {
   "cell_type": "code",
   "execution_count": 41,
   "id": "f68e87c3",
   "metadata": {},
   "outputs": [
    {
     "data": {
      "text/plain": [
       "bedrooms     0\n",
       "bathrooms    0\n",
       "area         0\n",
       "tax_value    0\n",
       "dtype: int64"
      ]
     },
     "execution_count": 41,
     "metadata": {},
     "output_type": "execute_result"
    }
   ],
   "source": [
    "zillow.isnull().sum()"
   ]
  },
  {
   "cell_type": "code",
   "execution_count": 42,
   "id": "cac03116",
   "metadata": {},
   "outputs": [
    {
     "data": {
      "text/plain": [
       "3.0     23359\n",
       "4.0     15239\n",
       "2.0      8336\n",
       "5.0      3972\n",
       "6.0       635\n",
       "1.0       609\n",
       "7.0       106\n",
       "0.0        63\n",
       "8.0        24\n",
       "9.0         8\n",
       "12.0        3\n",
       "10.0        2\n",
       "14.0        1\n",
       "11.0        1\n",
       "Name: bedrooms, dtype: int64"
      ]
     },
     "execution_count": 42,
     "metadata": {},
     "output_type": "execute_result"
    }
   ],
   "source": [
    "zillow.bedrooms.value_counts()"
   ]
  },
  {
   "cell_type": "code",
   "execution_count": 43,
   "id": "ea9f6aae",
   "metadata": {},
   "outputs": [
    {
     "data": {
      "text/plain": [
       "2.0     21892\n",
       "3.0     10673\n",
       "1.0      9562\n",
       "2.5      3934\n",
       "4.0      2227\n",
       "3.5       918\n",
       "1.5       840\n",
       "5.0       803\n",
       "4.5       686\n",
       "6.0       322\n",
       "5.5       224\n",
       "7.0        88\n",
       "8.0        53\n",
       "6.5        47\n",
       "0.0        47\n",
       "7.5        16\n",
       "9.0        13\n",
       "10.0        5\n",
       "11.0        3\n",
       "8.5         3\n",
       "18.0        1\n",
       "13.0        1\n",
       "Name: bathrooms, dtype: int64"
      ]
     },
     "execution_count": 43,
     "metadata": {},
     "output_type": "execute_result"
    }
   ],
   "source": [
    "zillow.bathrooms.value_counts()"
   ]
  },
  {
   "cell_type": "code",
   "execution_count": 49,
   "id": "9c2ddb26",
   "metadata": {},
   "outputs": [
    {
     "data": {
      "text/html": [
       "<div>\n",
       "<style scoped>\n",
       "    .dataframe tbody tr th:only-of-type {\n",
       "        vertical-align: middle;\n",
       "    }\n",
       "\n",
       "    .dataframe tbody tr th {\n",
       "        vertical-align: top;\n",
       "    }\n",
       "\n",
       "    .dataframe thead th {\n",
       "        text-align: right;\n",
       "    }\n",
       "</style>\n",
       "<table border=\"1\" class=\"dataframe\">\n",
       "  <thead>\n",
       "    <tr style=\"text-align: right;\">\n",
       "      <th></th>\n",
       "      <th>bedrooms</th>\n",
       "      <th>bathrooms</th>\n",
       "      <th>area</th>\n",
       "      <th>tax_value</th>\n",
       "    </tr>\n",
       "  </thead>\n",
       "  <tbody>\n",
       "  </tbody>\n",
       "</table>\n",
       "</div>"
      ],
      "text/plain": [
       "Empty DataFrame\n",
       "Columns: [bedrooms, bathrooms, area, tax_value]\n",
       "Index: []"
      ]
     },
     "execution_count": 49,
     "metadata": {},
     "output_type": "execute_result"
    }
   ],
   "source": [
    "zillow[zillow.area == 0]"
   ]
  },
  {
   "cell_type": "code",
   "execution_count": 52,
   "id": "85195d3d",
   "metadata": {},
   "outputs": [
    {
     "data": {
      "text/html": [
       "<div>\n",
       "<style scoped>\n",
       "    .dataframe tbody tr th:only-of-type {\n",
       "        vertical-align: middle;\n",
       "    }\n",
       "\n",
       "    .dataframe tbody tr th {\n",
       "        vertical-align: top;\n",
       "    }\n",
       "\n",
       "    .dataframe thead th {\n",
       "        text-align: right;\n",
       "    }\n",
       "</style>\n",
       "<table border=\"1\" class=\"dataframe\">\n",
       "  <thead>\n",
       "    <tr style=\"text-align: right;\">\n",
       "      <th></th>\n",
       "      <th>bedrooms</th>\n",
       "      <th>bathrooms</th>\n",
       "      <th>area</th>\n",
       "      <th>tax_value</th>\n",
       "    </tr>\n",
       "  </thead>\n",
       "  <tbody>\n",
       "  </tbody>\n",
       "</table>\n",
       "</div>"
      ],
      "text/plain": [
       "Empty DataFrame\n",
       "Columns: [bedrooms, bathrooms, area, tax_value]\n",
       "Index: []"
      ]
     },
     "execution_count": 52,
     "metadata": {},
     "output_type": "execute_result"
    }
   ],
   "source": [
    "zillow[zillow.tax_value == 0]"
   ]
  },
  {
   "cell_type": "code",
   "execution_count": 54,
   "id": "58db66c7",
   "metadata": {},
   "outputs": [],
   "source": [
    "# Some visualizations of columns"
   ]
  },
  {
   "cell_type": "code",
   "execution_count": 57,
   "id": "e8081d91",
   "metadata": {},
   "outputs": [
    {
     "data": {
      "image/png": "[encoded data removed]",
      "text/plain": [
       "<Figure size 1152x432 with 4 Axes>"
      ]
     },
     "metadata": {
      "needs_background": "light"
     },
     "output_type": "display_data"
    }
   ],
   "source": [
    "cols = [col for col in zillow.columns]\n",
    "plt.figure(figsize=(16,6))\n",
    "for i, col in enumerate(cols):\n",
    "    plot_number = i + 1\n",
    "    plt.subplot(1, len(cols), plot_number)\n",
    "    plt.title(col)\n",
    "    zillow[col].hist(bins=5)\n",
    "    plt.grid(False)\n",
    "    plt.ticklabel_format(useOffset=False)\n",
    "    \n",
    "plt.show()"
   ]
  },
  {
   "cell_type": "code",
   "execution_count": 58,
   "id": "e6a3c7fe",
   "metadata": {},
   "outputs": [
    {
     "data": {
      "text/plain": [
       "0    1023282.0\n",
       "1     464000.0\n",
       "2     564778.0\n",
       "3     145143.0\n",
       "4     773303.0\n",
       "Name: tax_value, dtype: float64"
      ]
     },
     "execution_count": 58,
     "metadata": {},
     "output_type": "execute_result"
    }
   ],
   "source": [
    "zillow.tax_value.head()"
   ]
  },
  {
   "cell_type": "code",
   "execution_count": 60,
   "id": "08ca162e",
   "metadata": {},
   "outputs": [
    {
     "data": {
      "text/plain": [
       "parcelid                            0\n",
       "propertylandusetypeid               0\n",
       "id                                  0\n",
       "basementsqft                    52394\n",
       "bathroomcnt                         0\n",
       "bedroomcnt                          0\n",
       "buildingclasstypeid             52441\n",
       "buildingqualitytypeid           18701\n",
       "calculatedbathnbr                 137\n",
       "decktypeid                      52052\n",
       "finishedfloor1squarefeet        48060\n",
       "calculatedfinishedsquarefeet       82\n",
       "finishedsquarefeet12              247\n",
       "finishedsquarefeet13            52441\n",
       "finishedsquarefeet15            52441\n",
       "finishedsquarefeet50            48060\n",
       "finishedsquarefeet6             52276\n",
       "fips                                0\n",
       "fireplacecnt                    45198\n",
       "fullbathcnt                       137\n",
       "garagecarcnt                    34426\n",
       "garagetotalsqft                 34426\n",
       "hashottuborspa                  50926\n",
       "heatingorsystemtypeid           18506\n",
       "latitude                            0\n",
       "longitude                           0\n",
       "lotsizesquarefeet                 369\n",
       "poolcnt                         41345\n",
       "poolsizesum                     51574\n",
       "pooltypeid10                    51997\n",
       "pooltypeid2                     51370\n",
       "pooltypeid7                     42432\n",
       "propertycountylandusecode           0\n",
       "propertyzoningdesc              18593\n",
       "rawcensustractandblock              0\n",
       "regionidcity                     1037\n",
       "regionidcounty                      0\n",
       "regionidneighborhood            33408\n",
       "regionidzip                        26\n",
       "roomcnt                             0\n",
       "storytypeid                     52394\n",
       "threequarterbathnbr             45717\n",
       "typeconstructiontypeid          52365\n",
       "unitcnt                         18594\n",
       "yardbuildingsqft17              50504\n",
       "yardbuildingsqft26              52378\n",
       "yearbuilt                         116\n",
       "numberofstories                 37880\n",
       "fireplaceflag                   52360\n",
       "taxvaluedollarcnt                   1\n",
       "assessmentyear                      0\n",
       "taxdelinquencyflag              50362\n",
       "taxdelinquencyyear              50362\n",
       "censustractandblock               123\n",
       "propertylandusedesc                 0\n",
       "id                                  0\n",
       "logerror                            0\n",
       "transactiondate                     0\n",
       "dtype: int64"
      ]
     },
     "execution_count": 60,
     "metadata": {},
     "output_type": "execute_result"
    }
   ],
   "source": [
    "zillow_l.isnull().sum()"
   ]
  },
  {
   "cell_type": "code",
   "execution_count": 76,
   "id": "b3408d4d",
   "metadata": {},
   "outputs": [
    {
     "name": "stdout",
     "output_type": "stream",
     "text": [
      "False\n",
      "False\n",
      "id    False\n",
      "id    False\n",
      "dtype: bool\n",
      "True\n",
      "False\n",
      "False\n",
      "True\n",
      "True\n",
      "False\n",
      "True\n",
      "True\n",
      "False\n",
      "False\n",
      "True\n",
      "True\n",
      "True\n",
      "True\n",
      "False\n",
      "True\n",
      "False\n",
      "True\n",
      "True\n",
      "True\n",
      "True\n",
      "False\n",
      "False\n",
      "False\n",
      "True\n",
      "True\n",
      "True\n",
      "True\n",
      "True\n",
      "False\n",
      "True\n",
      "False\n",
      "False\n",
      "False\n",
      "True\n",
      "False\n",
      "False\n",
      "True\n",
      "True\n",
      "True\n",
      "True\n",
      "True\n",
      "True\n",
      "False\n",
      "True\n",
      "True\n",
      "False\n",
      "False\n",
      "True\n",
      "True\n",
      "False\n",
      "False\n",
      "id    False\n",
      "id    False\n",
      "dtype: bool\n",
      "False\n",
      "False\n"
     ]
    }
   ],
   "source": [
    "for col in cols:\n",
    "    print(zillow_l[col].isna().sum() >= (.25 * zillow_l[col].count()))"
   ]
  },
  {
   "cell_type": "code",
   "execution_count": 100,
   "id": "3dd9211a",
   "metadata": {},
   "outputs": [],
   "source": [
    "for col in zillow_l:\n",
    "    if zillow_l[col].isna().sum() >= (.25 * len(zillow_l)):\n",
    "        zillow_l = zillow_l.drop(columns = col)"
   ]
  },
  {
   "cell_type": "code",
   "execution_count": 101,
   "id": "7c220bf2",
   "metadata": {},
   "outputs": [
    {
     "name": "stdout",
     "output_type": "stream",
     "text": [
      "<class 'pandas.core.frame.DataFrame'>\n",
      "RangeIndex: 52441 entries, 0 to 52440\n",
      "Data columns (total 25 columns):\n",
      " #   Column                        Non-Null Count  Dtype  \n",
      "---  ------                        --------------  -----  \n",
      " 0   parcelid                      52441 non-null  int64  \n",
      " 1   propertylandusetypeid         52441 non-null  float64\n",
      " 2   bathroomcnt                   52441 non-null  float64\n",
      " 3   bedroomcnt                    52441 non-null  float64\n",
      " 4   calculatedbathnbr             52304 non-null  float64\n",
      " 5   calculatedfinishedsquarefeet  52359 non-null  float64\n",
      " 6   finishedsquarefeet12          52194 non-null  float64\n",
      " 7   fips                          52441 non-null  float64\n",
      " 8   fullbathcnt                   52304 non-null  float64\n",
      " 9   latitude                      52441 non-null  float64\n",
      " 10  longitude                     52441 non-null  float64\n",
      " 11  lotsizesquarefeet             52072 non-null  float64\n",
      " 12  propertycountylandusecode     52441 non-null  object \n",
      " 13  rawcensustractandblock        52441 non-null  float64\n",
      " 14  regionidcity                  51404 non-null  float64\n",
      " 15  regionidcounty                52441 non-null  float64\n",
      " 16  regionidzip                   52415 non-null  float64\n",
      " 17  roomcnt                       52441 non-null  float64\n",
      " 18  yearbuilt                     52325 non-null  float64\n",
      " 19  taxvaluedollarcnt             52440 non-null  float64\n",
      " 20  assessmentyear                52441 non-null  float64\n",
      " 21  censustractandblock           52318 non-null  float64\n",
      " 22  propertylandusedesc           52441 non-null  object \n",
      " 23  logerror                      52441 non-null  float64\n",
      " 24  transactiondate               52441 non-null  object \n",
      "dtypes: float64(21), int64(1), object(3)\n",
      "memory usage: 10.0+ MB\n"
     ]
    }
   ],
   "source": [
    "zillow_l.info()"
   ]
  },
  {
   "cell_type": "code",
   "execution_count": 92,
   "id": "e3f326f5",
   "metadata": {},
   "outputs": [
    {
     "name": "stdout",
     "output_type": "stream",
     "text": [
      "<class 'pandas.core.frame.DataFrame'>\n",
      "Int64Index: 52358 entries, 0 to 52440\n",
      "Data columns (total 4 columns):\n",
      " #   Column     Non-Null Count  Dtype  \n",
      "---  ------     --------------  -----  \n",
      " 0   bedrooms   52358 non-null  float64\n",
      " 1   bathrooms  52358 non-null  float64\n",
      " 2   area       52358 non-null  float64\n",
      " 3   tax_value  52358 non-null  float64\n",
      "dtypes: float64(4)\n",
      "memory usage: 2.0 MB\n"
     ]
    }
   ],
   "source": [
    "zillow.info()"
   ]
  },
  {
   "cell_type": "code",
   "execution_count": 98,
   "id": "0f950833",
   "metadata": {},
   "outputs": [
    {
     "ename": "KeyError",
     "evalue": "\"['id'] not found in axis\"",
     "output_type": "error",
     "traceback": [
      "\u001b[0;31m---------------------------------------------------------------------------\u001b[0m",
      "\u001b[0;31mKeyError\u001b[0m                                  Traceback (most recent call last)",
      "\u001b[0;32m/var/folders/pt/3m3r1rq55pdgzpmnqzkdjb240000gn/T/ipykernel_3321/1613028253.py\u001b[0m in \u001b[0;36m<module>\u001b[0;34m\u001b[0m\n\u001b[0;32m----> 1\u001b[0;31m \u001b[0mzillow_l\u001b[0m \u001b[0;34m=\u001b[0m \u001b[0mzillow_l\u001b[0m\u001b[0;34m.\u001b[0m\u001b[0mdrop\u001b[0m\u001b[0;34m(\u001b[0m\u001b[0mcolumns\u001b[0m \u001b[0;34m=\u001b[0m \u001b[0;34m'id'\u001b[0m\u001b[0;34m)\u001b[0m\u001b[0;34m\u001b[0m\u001b[0;34m\u001b[0m\u001b[0m\n\u001b[0m",
      "\u001b[0;32m/opt/homebrew/anaconda3/lib/python3.9/site-packages/pandas/util/_decorators.py\u001b[0m in \u001b[0;36mwrapper\u001b[0;34m(*args, **kwargs)\u001b[0m\n\u001b[1;32m    309\u001b[0m                     \u001b[0mstacklevel\u001b[0m\u001b[0;34m=\u001b[0m\u001b[0mstacklevel\u001b[0m\u001b[0;34m,\u001b[0m\u001b[0;34m\u001b[0m\u001b[0;34m\u001b[0m\u001b[0m\n\u001b[1;32m    310\u001b[0m                 )\n\u001b[0;32m--> 311\u001b[0;31m             \u001b[0;32mreturn\u001b[0m \u001b[0mfunc\u001b[0m\u001b[0;34m(\u001b[0m\u001b[0;34m*\u001b[0m\u001b[0margs\u001b[0m\u001b[0;34m,\u001b[0m \u001b[0;34m**\u001b[0m\u001b[0mkwargs\u001b[0m\u001b[0;34m)\u001b[0m\u001b[0;34m\u001b[0m\u001b[0;34m\u001b[0m\u001b[0m\n\u001b[0m\u001b[1;32m    312\u001b[0m \u001b[0;34m\u001b[0m\u001b[0m\n\u001b[1;32m    313\u001b[0m         \u001b[0;32mreturn\u001b[0m \u001b[0mwrapper\u001b[0m\u001b[0;34m\u001b[0m\u001b[0;34m\u001b[0m\u001b[0m\n",
      "\u001b[0;32m/opt/homebrew/anaconda3/lib/python3.9/site-packages/pandas/core/frame.py\u001b[0m in \u001b[0;36mdrop\u001b[0;34m(self, labels, axis, index, columns, level, inplace, errors)\u001b[0m\n\u001b[1;32m   4904\u001b[0m                 \u001b[0mweight\u001b[0m  \u001b[0;36m1.0\u001b[0m     \u001b[0;36m0.8\u001b[0m\u001b[0;34m\u001b[0m\u001b[0;34m\u001b[0m\u001b[0m\n\u001b[1;32m   4905\u001b[0m         \"\"\"\n\u001b[0;32m-> 4906\u001b[0;31m         return super().drop(\n\u001b[0m\u001b[1;32m   4907\u001b[0m             \u001b[0mlabels\u001b[0m\u001b[0;34m=\u001b[0m\u001b[0mlabels\u001b[0m\u001b[0;34m,\u001b[0m\u001b[0;34m\u001b[0m\u001b[0;34m\u001b[0m\u001b[0m\n\u001b[1;32m   4908\u001b[0m             \u001b[0maxis\u001b[0m\u001b[0;34m=\u001b[0m\u001b[0maxis\u001b[0m\u001b[0;34m,\u001b[0m\u001b[0;34m\u001b[0m\u001b[0;34m\u001b[0m\u001b[0m\n",
      "\u001b[0;32m/opt/homebrew/anaconda3/lib/python3.9/site-packages/pandas/core/generic.py\u001b[0m in \u001b[0;36mdrop\u001b[0;34m(self, labels, axis, index, columns, level, inplace, errors)\u001b[0m\n\u001b[1;32m   4148\u001b[0m         \u001b[0;32mfor\u001b[0m \u001b[0maxis\u001b[0m\u001b[0;34m,\u001b[0m \u001b[0mlabels\u001b[0m \u001b[0;32min\u001b[0m \u001b[0maxes\u001b[0m\u001b[0;34m.\u001b[0m\u001b[0mitems\u001b[0m\u001b[0;34m(\u001b[0m\u001b[0;34m)\u001b[0m\u001b[0;34m:\u001b[0m\u001b[0;34m\u001b[0m\u001b[0;34m\u001b[0m\u001b[0m\n\u001b[1;32m   4149\u001b[0m             \u001b[0;32mif\u001b[0m \u001b[0mlabels\u001b[0m \u001b[0;32mis\u001b[0m \u001b[0;32mnot\u001b[0m \u001b[0;32mNone\u001b[0m\u001b[0;34m:\u001b[0m\u001b[0;34m\u001b[0m\u001b[0;34m\u001b[0m\u001b[0m\n\u001b[0;32m-> 4150\u001b[0;31m                 \u001b[0mobj\u001b[0m \u001b[0;34m=\u001b[0m \u001b[0mobj\u001b[0m\u001b[0;34m.\u001b[0m\u001b[0m_drop_axis\u001b[0m\u001b[0;34m(\u001b[0m\u001b[0mlabels\u001b[0m\u001b[0;34m,\u001b[0m \u001b[0maxis\u001b[0m\u001b[0;34m,\u001b[0m \u001b[0mlevel\u001b[0m\u001b[0;34m=\u001b[0m\u001b[0mlevel\u001b[0m\u001b[0;34m,\u001b[0m \u001b[0merrors\u001b[0m\u001b[0;34m=\u001b[0m\u001b[0merrors\u001b[0m\u001b[0;34m)\u001b[0m\u001b[0;34m\u001b[0m\u001b[0;34m\u001b[0m\u001b[0m\n\u001b[0m\u001b[1;32m   4151\u001b[0m \u001b[0;34m\u001b[0m\u001b[0m\n\u001b[1;32m   4152\u001b[0m         \u001b[0;32mif\u001b[0m \u001b[0minplace\u001b[0m\u001b[0;34m:\u001b[0m\u001b[0;34m\u001b[0m\u001b[0;34m\u001b[0m\u001b[0m\n",
      "\u001b[0;32m/opt/homebrew/anaconda3/lib/python3.9/site-packages/pandas/core/generic.py\u001b[0m in \u001b[0;36m_drop_axis\u001b[0;34m(self, labels, axis, level, errors)\u001b[0m\n\u001b[1;32m   4183\u001b[0m                 \u001b[0mnew_axis\u001b[0m \u001b[0;34m=\u001b[0m \u001b[0maxis\u001b[0m\u001b[0;34m.\u001b[0m\u001b[0mdrop\u001b[0m\u001b[0;34m(\u001b[0m\u001b[0mlabels\u001b[0m\u001b[0;34m,\u001b[0m \u001b[0mlevel\u001b[0m\u001b[0;34m=\u001b[0m\u001b[0mlevel\u001b[0m\u001b[0;34m,\u001b[0m \u001b[0merrors\u001b[0m\u001b[0;34m=\u001b[0m\u001b[0merrors\u001b[0m\u001b[0;34m)\u001b[0m\u001b[0;34m\u001b[0m\u001b[0;34m\u001b[0m\u001b[0m\n\u001b[1;32m   4184\u001b[0m             \u001b[0;32melse\u001b[0m\u001b[0;34m:\u001b[0m\u001b[0;34m\u001b[0m\u001b[0;34m\u001b[0m\u001b[0m\n\u001b[0;32m-> 4185\u001b[0;31m                 \u001b[0mnew_axis\u001b[0m \u001b[0;34m=\u001b[0m \u001b[0maxis\u001b[0m\u001b[0;34m.\u001b[0m\u001b[0mdrop\u001b[0m\u001b[0;34m(\u001b[0m\u001b[0mlabels\u001b[0m\u001b[0;34m,\u001b[0m \u001b[0merrors\u001b[0m\u001b[0;34m=\u001b[0m\u001b[0merrors\u001b[0m\u001b[0;34m)\u001b[0m\u001b[0;34m\u001b[0m\u001b[0;34m\u001b[0m\u001b[0m\n\u001b[0m\u001b[1;32m   4186\u001b[0m             \u001b[0mresult\u001b[0m \u001b[0;34m=\u001b[0m \u001b[0mself\u001b[0m\u001b[0;34m.\u001b[0m\u001b[0mreindex\u001b[0m\u001b[0;34m(\u001b[0m\u001b[0;34m**\u001b[0m\u001b[0;34m{\u001b[0m\u001b[0maxis_name\u001b[0m\u001b[0;34m:\u001b[0m \u001b[0mnew_axis\u001b[0m\u001b[0;34m}\u001b[0m\u001b[0;34m)\u001b[0m\u001b[0;34m\u001b[0m\u001b[0;34m\u001b[0m\u001b[0m\n\u001b[1;32m   4187\u001b[0m \u001b[0;34m\u001b[0m\u001b[0m\n",
      "\u001b[0;32m/opt/homebrew/anaconda3/lib/python3.9/site-packages/pandas/core/indexes/base.py\u001b[0m in \u001b[0;36mdrop\u001b[0;34m(self, labels, errors)\u001b[0m\n\u001b[1;32m   6015\u001b[0m         \u001b[0;32mif\u001b[0m \u001b[0mmask\u001b[0m\u001b[0;34m.\u001b[0m\u001b[0many\u001b[0m\u001b[0;34m(\u001b[0m\u001b[0;34m)\u001b[0m\u001b[0;34m:\u001b[0m\u001b[0;34m\u001b[0m\u001b[0;34m\u001b[0m\u001b[0m\n\u001b[1;32m   6016\u001b[0m             \u001b[0;32mif\u001b[0m \u001b[0merrors\u001b[0m \u001b[0;34m!=\u001b[0m \u001b[0;34m\"ignore\"\u001b[0m\u001b[0;34m:\u001b[0m\u001b[0;34m\u001b[0m\u001b[0;34m\u001b[0m\u001b[0m\n\u001b[0;32m-> 6017\u001b[0;31m                 \u001b[0;32mraise\u001b[0m \u001b[0mKeyError\u001b[0m\u001b[0;34m(\u001b[0m\u001b[0;34mf\"{labels[mask]} not found in axis\"\u001b[0m\u001b[0;34m)\u001b[0m\u001b[0;34m\u001b[0m\u001b[0;34m\u001b[0m\u001b[0m\n\u001b[0m\u001b[1;32m   6018\u001b[0m             \u001b[0mindexer\u001b[0m \u001b[0;34m=\u001b[0m \u001b[0mindexer\u001b[0m\u001b[0;34m[\u001b[0m\u001b[0;34m~\u001b[0m\u001b[0mmask\u001b[0m\u001b[0;34m]\u001b[0m\u001b[0;34m\u001b[0m\u001b[0;34m\u001b[0m\u001b[0m\n\u001b[1;32m   6019\u001b[0m         \u001b[0;32mreturn\u001b[0m \u001b[0mself\u001b[0m\u001b[0;34m.\u001b[0m\u001b[0mdelete\u001b[0m\u001b[0;34m(\u001b[0m\u001b[0mindexer\u001b[0m\u001b[0;34m)\u001b[0m\u001b[0;34m\u001b[0m\u001b[0;34m\u001b[0m\u001b[0m\n",
      "\u001b[0;31mKeyError\u001b[0m: \"['id'] not found in axis\""
     ]
    }
   ],
   "source": [
    "zillow_l = zillow_l.drop(columns = 'id')"
   ]
  },
  {
   "cell_type": "code",
   "execution_count": 102,
   "id": "2e449bce",
   "metadata": {},
   "outputs": [
    {
     "name": "stdout",
     "output_type": "stream",
     "text": [
      "<class 'pandas.core.frame.DataFrame'>\n",
      "RangeIndex: 52441 entries, 0 to 52440\n",
      "Data columns (total 25 columns):\n",
      " #   Column                        Non-Null Count  Dtype  \n",
      "---  ------                        --------------  -----  \n",
      " 0   parcelid                      52441 non-null  int64  \n",
      " 1   propertylandusetypeid         52441 non-null  float64\n",
      " 2   bathroomcnt                   52441 non-null  float64\n",
      " 3   bedroomcnt                    52441 non-null  float64\n",
      " 4   calculatedbathnbr             52304 non-null  float64\n",
      " 5   calculatedfinishedsquarefeet  52359 non-null  float64\n",
      " 6   finishedsquarefeet12          52194 non-null  float64\n",
      " 7   fips                          52441 non-null  float64\n",
      " 8   fullbathcnt                   52304 non-null  float64\n",
      " 9   latitude                      52441 non-null  float64\n",
      " 10  longitude                     52441 non-null  float64\n",
      " 11  lotsizesquarefeet             52072 non-null  float64\n",
      " 12  propertycountylandusecode     52441 non-null  object \n",
      " 13  rawcensustractandblock        52441 non-null  float64\n",
      " 14  regionidcity                  51404 non-null  float64\n",
      " 15  regionidcounty                52441 non-null  float64\n",
      " 16  regionidzip                   52415 non-null  float64\n",
      " 17  roomcnt                       52441 non-null  float64\n",
      " 18  yearbuilt                     52325 non-null  float64\n",
      " 19  taxvaluedollarcnt             52440 non-null  float64\n",
      " 20  assessmentyear                52441 non-null  float64\n",
      " 21  censustractandblock           52318 non-null  float64\n",
      " 22  propertylandusedesc           52441 non-null  object \n",
      " 23  logerror                      52441 non-null  float64\n",
      " 24  transactiondate               52441 non-null  object \n",
      "dtypes: float64(21), int64(1), object(3)\n",
      "memory usage: 10.0+ MB\n"
     ]
    }
   ],
   "source": [
    "zillow_l.info()"
   ]
  },
  {
   "cell_type": "code",
   "execution_count": 103,
   "id": "2ac25bf4",
   "metadata": {},
   "outputs": [
    {
     "data": {
      "text/plain": [
       "parcelid                           0\n",
       "propertylandusetypeid              0\n",
       "bathroomcnt                        0\n",
       "bedroomcnt                         0\n",
       "calculatedbathnbr                137\n",
       "calculatedfinishedsquarefeet      82\n",
       "finishedsquarefeet12             247\n",
       "fips                               0\n",
       "fullbathcnt                      137\n",
       "latitude                           0\n",
       "longitude                          0\n",
       "lotsizesquarefeet                369\n",
       "propertycountylandusecode          0\n",
       "rawcensustractandblock             0\n",
       "regionidcity                    1037\n",
       "regionidcounty                     0\n",
       "regionidzip                       26\n",
       "roomcnt                            0\n",
       "yearbuilt                        116\n",
       "taxvaluedollarcnt                  1\n",
       "assessmentyear                     0\n",
       "censustractandblock              123\n",
       "propertylandusedesc                0\n",
       "logerror                           0\n",
       "transactiondate                    0\n",
       "dtype: int64"
      ]
     },
     "execution_count": 103,
     "metadata": {},
     "output_type": "execute_result"
    }
   ],
   "source": [
    "zillow_l.isnull().sum()"
   ]
  },
  {
   "cell_type": "code",
   "execution_count": 104,
   "id": "873ca07f",
   "metadata": {},
   "outputs": [],
   "source": [
    "# The amount of NaN values is a small % of total rows, or redundant in nature (regionidcity). Will drop all NaNs\n",
    "zillow_l = zillow_l.dropna()"
   ]
  },
  {
   "cell_type": "code",
   "execution_count": 105,
   "id": "b0e9c3bb",
   "metadata": {},
   "outputs": [
    {
     "data": {
      "text/plain": [
       "parcelid                        0\n",
       "propertylandusetypeid           0\n",
       "bathroomcnt                     0\n",
       "bedroomcnt                      0\n",
       "calculatedbathnbr               0\n",
       "calculatedfinishedsquarefeet    0\n",
       "finishedsquarefeet12            0\n",
       "fips                            0\n",
       "fullbathcnt                     0\n",
       "latitude                        0\n",
       "longitude                       0\n",
       "lotsizesquarefeet               0\n",
       "propertycountylandusecode       0\n",
       "rawcensustractandblock          0\n",
       "regionidcity                    0\n",
       "regionidcounty                  0\n",
       "regionidzip                     0\n",
       "roomcnt                         0\n",
       "yearbuilt                       0\n",
       "taxvaluedollarcnt               0\n",
       "assessmentyear                  0\n",
       "censustractandblock             0\n",
       "propertylandusedesc             0\n",
       "logerror                        0\n",
       "transactiondate                 0\n",
       "dtype: int64"
      ]
     },
     "execution_count": 105,
     "metadata": {},
     "output_type": "execute_result"
    }
   ],
   "source": [
    "zillow_l.isnull().sum()"
   ]
  },
  {
   "cell_type": "code",
   "execution_count": 106,
   "id": "dcb47922",
   "metadata": {},
   "outputs": [
    {
     "name": "stdout",
     "output_type": "stream",
     "text": [
      "<class 'pandas.core.frame.DataFrame'>\n",
      "Int64Index: 50735 entries, 0 to 52440\n",
      "Data columns (total 25 columns):\n",
      " #   Column                        Non-Null Count  Dtype  \n",
      "---  ------                        --------------  -----  \n",
      " 0   parcelid                      50735 non-null  int64  \n",
      " 1   propertylandusetypeid         50735 non-null  float64\n",
      " 2   bathroomcnt                   50735 non-null  float64\n",
      " 3   bedroomcnt                    50735 non-null  float64\n",
      " 4   calculatedbathnbr             50735 non-null  float64\n",
      " 5   calculatedfinishedsquarefeet  50735 non-null  float64\n",
      " 6   finishedsquarefeet12          50735 non-null  float64\n",
      " 7   fips                          50735 non-null  float64\n",
      " 8   fullbathcnt                   50735 non-null  float64\n",
      " 9   latitude                      50735 non-null  float64\n",
      " 10  longitude                     50735 non-null  float64\n",
      " 11  lotsizesquarefeet             50735 non-null  float64\n",
      " 12  propertycountylandusecode     50735 non-null  object \n",
      " 13  rawcensustractandblock        50735 non-null  float64\n",
      " 14  regionidcity                  50735 non-null  float64\n",
      " 15  regionidcounty                50735 non-null  float64\n",
      " 16  regionidzip                   50735 non-null  float64\n",
      " 17  roomcnt                       50735 non-null  float64\n",
      " 18  yearbuilt                     50735 non-null  float64\n",
      " 19  taxvaluedollarcnt             50735 non-null  float64\n",
      " 20  assessmentyear                50735 non-null  float64\n",
      " 21  censustractandblock           50735 non-null  float64\n",
      " 22  propertylandusedesc           50735 non-null  object \n",
      " 23  logerror                      50735 non-null  float64\n",
      " 24  transactiondate               50735 non-null  object \n",
      "dtypes: float64(21), int64(1), object(3)\n",
      "memory usage: 10.1+ MB\n"
     ]
    }
   ],
   "source": [
    "zillow_l.info()"
   ]
  },
  {
   "cell_type": "code",
   "execution_count": 115,
   "id": "986656c6",
   "metadata": {},
   "outputs": [
    {
     "data": {
      "text/plain": [
       "3.0     22880\n",
       "4.0     14723\n",
       "2.0      8073\n",
       "5.0      3758\n",
       "6.0       603\n",
       "1.0       536\n",
       "7.0       101\n",
       "0.0        27\n",
       "8.0        23\n",
       "9.0         8\n",
       "10.0        2\n",
       "11.0        1\n",
       "Name: bedroomcnt, dtype: int64"
      ]
     },
     "execution_count": 115,
     "metadata": {},
     "output_type": "execute_result"
    }
   ],
   "source": [
    "zillow_l.bedroomcnt.value_counts()"
   ]
  },
  {
   "cell_type": "code",
   "execution_count": 120,
   "id": "3c3eb6a8",
   "metadata": {},
   "outputs": [
    {
     "data": {
      "text/plain": [
       "2017-06-30    780\n",
       "2017-04-28    594\n",
       "2017-05-31    550\n",
       "2017-07-28    527\n",
       "2017-08-31    514\n",
       "             ... \n",
       "2017-05-07      1\n",
       "2017-05-13      1\n",
       "2017-05-20      1\n",
       "2017-06-11      1\n",
       "2017-09-25      1\n",
       "Name: transactiondate, Length: 257, dtype: int64"
      ]
     },
     "execution_count": 120,
     "metadata": {},
     "output_type": "execute_result"
    }
   ],
   "source": [
    "zillow_l.transactiondate.value_counts()"
   ]
  },
  {
   "cell_type": "code",
   "execution_count": 121,
   "id": "5539e9b3",
   "metadata": {},
   "outputs": [],
   "source": [
    "zillow_l = zillow_l.drop(columns = ['parcelid', 'propertylandusetypeid', 'calculatedbathnbr', 'finishedsquarefeet12', 'fullbathcnt',\n",
    "                            'latitude', 'longitude', 'propertycountylandusecode', 'rawcensustractandblock',\n",
    "                            'roomcnt', 'regionidzip', 'assessmentyear', 'censustractandblock', 'logerror'])"
   ]
  },
  {
   "cell_type": "code",
   "execution_count": 122,
   "id": "561e171c",
   "metadata": {},
   "outputs": [
    {
     "name": "stdout",
     "output_type": "stream",
     "text": [
      "<class 'pandas.core.frame.DataFrame'>\n",
      "Int64Index: 50735 entries, 0 to 52440\n",
      "Data columns (total 11 columns):\n",
      " #   Column                        Non-Null Count  Dtype  \n",
      "---  ------                        --------------  -----  \n",
      " 0   bathroomcnt                   50735 non-null  float64\n",
      " 1   bedroomcnt                    50735 non-null  float64\n",
      " 2   calculatedfinishedsquarefeet  50735 non-null  float64\n",
      " 3   fips                          50735 non-null  float64\n",
      " 4   lotsizesquarefeet             50735 non-null  float64\n",
      " 5   regionidcity                  50735 non-null  float64\n",
      " 6   regionidcounty                50735 non-null  float64\n",
      " 7   yearbuilt                     50735 non-null  float64\n",
      " 8   taxvaluedollarcnt             50735 non-null  float64\n",
      " 9   propertylandusedesc           50735 non-null  object \n",
      " 10  transactiondate               50735 non-null  object \n",
      "dtypes: float64(9), object(2)\n",
      "memory usage: 4.6+ MB\n"
     ]
    }
   ],
   "source": [
    "zillow_l.info()"
   ]
  },
  {
   "cell_type": "code",
   "execution_count": 124,
   "id": "9555168a",
   "metadata": {},
   "outputs": [],
   "source": [
    "zillow_l = zillow_l.drop(columns = 'propertylandusedesc')"
   ]
  },
  {
   "cell_type": "code",
   "execution_count": 128,
   "id": "698ef7c7",
   "metadata": {},
   "outputs": [
    {
     "data": {
      "text/plain": [
       "175"
      ]
     },
     "execution_count": 128,
     "metadata": {},
     "output_type": "execute_result"
    }
   ],
   "source": [
    "zillow_l.regionidcity.nunique()"
   ]
  },
  {
   "cell_type": "code",
   "execution_count": 142,
   "id": "7c0687c7",
   "metadata": {},
   "outputs": [
    {
     "data": {
      "text/plain": [
       "12447.0    11338\n",
       "5534.0      1762\n",
       "40227.0     1486\n",
       "46298.0     1424\n",
       "16764.0     1070\n",
       "           ...  \n",
       "32927.0        3\n",
       "31134.0        2\n",
       "36078.0        1\n",
       "10815.0        1\n",
       "21395.0        1\n",
       "Name: regionidcity, Length: 175, dtype: int64"
      ]
     },
     "execution_count": 142,
     "metadata": {},
     "output_type": "execute_result"
    }
   ],
   "source": [
    "zillow_l.regionidcity.value_counts(ascending=False)"
   ]
  },
  {
   "cell_type": "code",
   "execution_count": 132,
   "id": "5003a71d",
   "metadata": {},
   "outputs": [
    {
     "data": {
      "text/plain": [
       "3101.0    32875\n",
       "1286.0    13529\n",
       "2061.0     4331\n",
       "Name: regionidcounty, dtype: int64"
      ]
     },
     "execution_count": 132,
     "metadata": {},
     "output_type": "execute_result"
    }
   ],
   "source": [
    "zillow_l.regionidcounty.value_counts()"
   ]
  },
  {
   "cell_type": "code",
   "execution_count": 137,
   "id": "e5451a7e",
   "metadata": {},
   "outputs": [],
   "source": [
    "zillow_l = zillow_l.drop(columns = 'regionidcounty')"
   ]
  },
  {
   "cell_type": "code",
   "execution_count": 138,
   "id": "6863c5a9",
   "metadata": {},
   "outputs": [
    {
     "name": "stdout",
     "output_type": "stream",
     "text": [
      "<class 'pandas.core.frame.DataFrame'>\n",
      "Int64Index: 50735 entries, 0 to 52440\n",
      "Data columns (total 9 columns):\n",
      " #   Column                        Non-Null Count  Dtype  \n",
      "---  ------                        --------------  -----  \n",
      " 0   bathroomcnt                   50735 non-null  float64\n",
      " 1   bedroomcnt                    50735 non-null  float64\n",
      " 2   calculatedfinishedsquarefeet  50735 non-null  float64\n",
      " 3   fips                          50735 non-null  float64\n",
      " 4   lotsizesquarefeet             50735 non-null  float64\n",
      " 5   regionidcity                  50735 non-null  float64\n",
      " 6   yearbuilt                     50735 non-null  float64\n",
      " 7   taxvaluedollarcnt             50735 non-null  float64\n",
      " 8   transactiondate               50735 non-null  object \n",
      "dtypes: float64(8), object(1)\n",
      "memory usage: 3.9+ MB\n"
     ]
    }
   ],
   "source": [
    "zillow_l.info()"
   ]
  },
  {
   "cell_type": "code",
   "execution_count": 139,
   "id": "2b165e8f",
   "metadata": {},
   "outputs": [
    {
     "data": {
      "text/plain": [
       "0     4506.0\n",
       "1    12647.0\n",
       "2     8432.0\n",
       "3    13038.0\n",
       "4    63000.0\n",
       "Name: lotsizesquarefeet, dtype: float64"
      ]
     },
     "execution_count": 139,
     "metadata": {},
     "output_type": "execute_result"
    }
   ],
   "source": [
    "zillow_l.lotsizesquarefeet.head()"
   ]
  },
  {
   "cell_type": "code",
   "execution_count": 140,
   "id": "69abd1b7",
   "metadata": {},
   "outputs": [
    {
     "data": {
      "text/plain": [
       "0    3100.0\n",
       "1    1465.0\n",
       "2    1243.0\n",
       "3    2376.0\n",
       "4    2962.0\n",
       "Name: calculatedfinishedsquarefeet, dtype: float64"
      ]
     },
     "execution_count": 140,
     "metadata": {},
     "output_type": "execute_result"
    }
   ],
   "source": [
    "zillow_l.calculatedfinishedsquarefeet.head()"
   ]
  },
  {
   "cell_type": "code",
   "execution_count": 143,
   "id": "ab2d2bd1",
   "metadata": {},
   "outputs": [
    {
     "name": "stdout",
     "output_type": "stream",
     "text": [
      "<class 'pandas.core.frame.DataFrame'>\n",
      "Int64Index: 50735 entries, 0 to 52440\n",
      "Data columns (total 9 columns):\n",
      " #   Column                        Non-Null Count  Dtype  \n",
      "---  ------                        --------------  -----  \n",
      " 0   bathroomcnt                   50735 non-null  float64\n",
      " 1   bedroomcnt                    50735 non-null  float64\n",
      " 2   calculatedfinishedsquarefeet  50735 non-null  float64\n",
      " 3   fips                          50735 non-null  float64\n",
      " 4   lotsizesquarefeet             50735 non-null  float64\n",
      " 5   regionidcity                  50735 non-null  float64\n",
      " 6   yearbuilt                     50735 non-null  float64\n",
      " 7   taxvaluedollarcnt             50735 non-null  float64\n",
      " 8   transactiondate               50735 non-null  object \n",
      "dtypes: float64(8), object(1)\n",
      "memory usage: 3.9+ MB\n"
     ]
    }
   ],
   "source": [
    "zillow_l.info()"
   ]
  },
  {
   "cell_type": "markdown",
   "id": "5be9d2f3",
   "metadata": {},
   "source": [
    "### My acquire/prep exploration was becoming too time consuming so I needed to consolidate it and move on. "
   ]
  },
  {
   "cell_type": "code",
   "execution_count": 2,
   "id": "edfbb51e",
   "metadata": {},
   "outputs": [
    {
     "name": "stdout",
     "output_type": "stream",
     "text": [
      "Using cached csv\n"
     ]
    }
   ],
   "source": [
    "z = a.acquire_zillow()"
   ]
  },
  {
   "cell_type": "code",
   "execution_count": 3,
   "id": "5cf3d1af",
   "metadata": {},
   "outputs": [
    {
     "name": "stdout",
     "output_type": "stream",
     "text": [
      "<class 'pandas.core.frame.DataFrame'>\n",
      "RangeIndex: 52441 entries, 0 to 52440\n",
      "Data columns (total 7 columns):\n",
      " #   Column      Non-Null Count  Dtype  \n",
      "---  ------      --------------  -----  \n",
      " 0   bedrooms    52441 non-null  float64\n",
      " 1   bathrooms   52441 non-null  float64\n",
      " 2   house_area  52359 non-null  float64\n",
      " 3   lot_area    52072 non-null  float64\n",
      " 4   fips        52441 non-null  float64\n",
      " 5   yearbuilt   52325 non-null  float64\n",
      " 6   tax_value   52440 non-null  float64\n",
      "dtypes: float64(7)\n",
      "memory usage: 2.8 MB\n"
     ]
    }
   ],
   "source": [
    "z.info()"
   ]
  },
  {
   "cell_type": "code",
   "execution_count": 4,
   "id": "b3a1f25f",
   "metadata": {},
   "outputs": [
    {
     "data": {
      "text/html": [
       "<div>\n",
       "<style scoped>\n",
       "    .dataframe tbody tr th:only-of-type {\n",
       "        vertical-align: middle;\n",
       "    }\n",
       "\n",
       "    .dataframe tbody tr th {\n",
       "        vertical-align: top;\n",
       "    }\n",
       "\n",
       "    .dataframe thead th {\n",
       "        text-align: right;\n",
       "    }\n",
       "</style>\n",
       "<table border=\"1\" class=\"dataframe\">\n",
       "  <thead>\n",
       "    <tr style=\"text-align: right;\">\n",
       "      <th></th>\n",
       "      <th>bedrooms</th>\n",
       "      <th>bathrooms</th>\n",
       "      <th>house_area</th>\n",
       "      <th>lot_area</th>\n",
       "      <th>fips</th>\n",
       "      <th>yearbuilt</th>\n",
       "      <th>tax_value</th>\n",
       "    </tr>\n",
       "  </thead>\n",
       "  <tbody>\n",
       "    <tr>\n",
       "      <th>0</th>\n",
       "      <td>4.0</td>\n",
       "      <td>3.5</td>\n",
       "      <td>3100.0</td>\n",
       "      <td>4506.0</td>\n",
       "      <td>6059.0</td>\n",
       "      <td>1998.0</td>\n",
       "      <td>1023282.0</td>\n",
       "    </tr>\n",
       "    <tr>\n",
       "      <th>1</th>\n",
       "      <td>2.0</td>\n",
       "      <td>1.0</td>\n",
       "      <td>1465.0</td>\n",
       "      <td>12647.0</td>\n",
       "      <td>6111.0</td>\n",
       "      <td>1967.0</td>\n",
       "      <td>464000.0</td>\n",
       "    </tr>\n",
       "    <tr>\n",
       "      <th>2</th>\n",
       "      <td>3.0</td>\n",
       "      <td>2.0</td>\n",
       "      <td>1243.0</td>\n",
       "      <td>8432.0</td>\n",
       "      <td>6059.0</td>\n",
       "      <td>1962.0</td>\n",
       "      <td>564778.0</td>\n",
       "    </tr>\n",
       "    <tr>\n",
       "      <th>3</th>\n",
       "      <td>4.0</td>\n",
       "      <td>3.0</td>\n",
       "      <td>2376.0</td>\n",
       "      <td>13038.0</td>\n",
       "      <td>6037.0</td>\n",
       "      <td>1970.0</td>\n",
       "      <td>145143.0</td>\n",
       "    </tr>\n",
       "    <tr>\n",
       "      <th>4</th>\n",
       "      <td>4.0</td>\n",
       "      <td>3.0</td>\n",
       "      <td>2962.0</td>\n",
       "      <td>63000.0</td>\n",
       "      <td>6037.0</td>\n",
       "      <td>1950.0</td>\n",
       "      <td>773303.0</td>\n",
       "    </tr>\n",
       "  </tbody>\n",
       "</table>\n",
       "</div>"
      ],
      "text/plain": [
       "   bedrooms  bathrooms  house_area  lot_area    fips  yearbuilt  tax_value\n",
       "0       4.0        3.5      3100.0    4506.0  6059.0     1998.0  1023282.0\n",
       "1       2.0        1.0      1465.0   12647.0  6111.0     1967.0   464000.0\n",
       "2       3.0        2.0      1243.0    8432.0  6059.0     1962.0   564778.0\n",
       "3       4.0        3.0      2376.0   13038.0  6037.0     1970.0   145143.0\n",
       "4       4.0        3.0      2962.0   63000.0  6037.0     1950.0   773303.0"
      ]
     },
     "execution_count": 4,
     "metadata": {},
     "output_type": "execute_result"
    }
   ],
   "source": [
    "z.head()"
   ]
  },
  {
   "cell_type": "code",
   "execution_count": 5,
   "id": "3dd57714",
   "metadata": {},
   "outputs": [
    {
     "data": {
      "text/plain": [
       "bedrooms        0\n",
       "bathrooms       0\n",
       "house_area     82\n",
       "lot_area      369\n",
       "fips            0\n",
       "yearbuilt     116\n",
       "tax_value       1\n",
       "dtype: int64"
      ]
     },
     "execution_count": 5,
     "metadata": {},
     "output_type": "execute_result"
    }
   ],
   "source": [
    "z.isnull().sum()"
   ]
  },
  {
   "cell_type": "code",
   "execution_count": 6,
   "id": "c42041d9",
   "metadata": {},
   "outputs": [],
   "source": [
    "z = z.dropna()"
   ]
  },
  {
   "cell_type": "code",
   "execution_count": 7,
   "id": "59ee02c3",
   "metadata": {},
   "outputs": [
    {
     "name": "stdout",
     "output_type": "stream",
     "text": [
      "<class 'pandas.core.frame.DataFrame'>\n",
      "Int64Index: 51959 entries, 0 to 52440\n",
      "Data columns (total 7 columns):\n",
      " #   Column      Non-Null Count  Dtype  \n",
      "---  ------      --------------  -----  \n",
      " 0   bedrooms    51959 non-null  float64\n",
      " 1   bathrooms   51959 non-null  float64\n",
      " 2   house_area  51959 non-null  float64\n",
      " 3   lot_area    51959 non-null  float64\n",
      " 4   fips        51959 non-null  float64\n",
      " 5   yearbuilt   51959 non-null  float64\n",
      " 6   tax_value   51959 non-null  float64\n",
      "dtypes: float64(7)\n",
      "memory usage: 3.2 MB\n"
     ]
    }
   ],
   "source": [
    "z.info()"
   ]
  },
  {
   "cell_type": "code",
   "execution_count": 8,
   "id": "0369412e",
   "metadata": {},
   "outputs": [
    {
     "data": {
      "image/png": "[encoded data removed]",
      "text/plain": [
       "<Figure size 1152x432 with 5 Axes>"
      ]
     },
     "metadata": {
      "needs_background": "light"
     },
     "output_type": "display_data"
    }
   ],
   "source": [
    "plt.figure(figsize=(16,6))\n",
    "cols = [col for col in z.columns if col not in ['fips', 'yearbuilt']]\n",
    "\n",
    "for i, col in enumerate(cols):\n",
    "    plot_number = i + 1\n",
    "    plt.subplot(1, len(cols), plot_number)\n",
    "    plt.title(col)\n",
    "    z[col].hist(bins=5)\n",
    "    plt.ticklabel_format(useOffset=False)\n",
    "plt.show()"
   ]
  },
  {
   "cell_type": "code",
   "execution_count": 9,
   "id": "360c5a43",
   "metadata": {},
   "outputs": [],
   "source": [
    "# There are outliers that are causing severe skew in the data. It makes sense to remove them to give us a better \n",
    "# sense of what is normal for the data, and will serve the purpose of creating a model for predictions. "
   ]
  },
  {
   "cell_type": "code",
   "execution_count": 10,
   "id": "a04a986f",
   "metadata": {},
   "outputs": [
    {
     "data": {
      "image/png": "[encoded data removed]",
      "text/plain": [
       "<Figure size 720x360 with 1 Axes>"
      ]
     },
     "metadata": {
      "needs_background": "light"
     },
     "output_type": "display_data"
    }
   ],
   "source": [
    "plt.figure(figsize=(10,5))\n",
    "plt.ticklabel_format(useOffset=False, style='plain')\n",
    "sns.boxplot(data=z.drop(columns=['fips']))\n",
    "plt.show()"
   ]
  },
  {
   "cell_type": "code",
   "execution_count": 12,
   "id": "8e95ba1c",
   "metadata": {},
   "outputs": [],
   "source": [
    "# Boxplots highlights the issue of outliers, especially in tax_value (target variable)"
   ]
  },
  {
   "cell_type": "code",
   "execution_count": 13,
   "id": "2648df2a",
   "metadata": {},
   "outputs": [],
   "source": [
    "# Need to change datatype of fips and yearbuilt to objects\n",
    "z.fips = z.fips.astype(object)\n",
    "z.yearbuilt = z.yearbuilt.astype(object)"
   ]
  },
  {
   "cell_type": "code",
   "execution_count": 14,
   "id": "3f84224a",
   "metadata": {},
   "outputs": [
    {
     "name": "stdout",
     "output_type": "stream",
     "text": [
      "<class 'pandas.core.frame.DataFrame'>\n",
      "Int64Index: 51959 entries, 0 to 52440\n",
      "Data columns (total 7 columns):\n",
      " #   Column      Non-Null Count  Dtype  \n",
      "---  ------      --------------  -----  \n",
      " 0   bedrooms    51959 non-null  float64\n",
      " 1   bathrooms   51959 non-null  float64\n",
      " 2   house_area  51959 non-null  float64\n",
      " 3   lot_area    51959 non-null  float64\n",
      " 4   fips        51959 non-null  object \n",
      " 5   yearbuilt   51959 non-null  object \n",
      " 6   tax_value   51959 non-null  float64\n",
      "dtypes: float64(5), object(2)\n",
      "memory usage: 3.2+ MB\n"
     ]
    }
   ],
   "source": [
    "z.info()"
   ]
  },
  {
   "cell_type": "code",
   "execution_count": 15,
   "id": "8d8fcf9d",
   "metadata": {},
   "outputs": [],
   "source": [
    "# Now for removal of outliers\n",
    "def remove_outliers(df, k, cols):\n",
    "    for col in cols:\n",
    "        q1, q3 = df[col].quantile([.25, .75])\n",
    "        iqr = q3 - q1\n",
    "        upper_bound = q3 + k * iqr\n",
    "        lower_bound = q1 - k * iqr\n",
    "        df = df[(df[col] > lower_bound) & (df[col] < upper_bound)]\n",
    "        return df"
   ]
  },
  {
   "cell_type": "code",
   "execution_count": 17,
   "id": "e4307067",
   "metadata": {},
   "outputs": [],
   "source": [
    "z = remove_outliers(z, 1.5, ['bedrooms', 'bathrooms', 'house_area', 'lot_area', 'tax_value'])"
   ]
  },
  {
   "cell_type": "code",
   "execution_count": 18,
   "id": "527ffeef",
   "metadata": {},
   "outputs": [
    {
     "name": "stdout",
     "output_type": "stream",
     "text": [
      "<class 'pandas.core.frame.DataFrame'>\n",
      "Int64Index: 50562 entries, 0 to 52440\n",
      "Data columns (total 7 columns):\n",
      " #   Column      Non-Null Count  Dtype  \n",
      "---  ------      --------------  -----  \n",
      " 0   bedrooms    50562 non-null  float64\n",
      " 1   bathrooms   50562 non-null  float64\n",
      " 2   house_area  50562 non-null  float64\n",
      " 3   lot_area    50562 non-null  float64\n",
      " 4   fips        50562 non-null  object \n",
      " 5   yearbuilt   50562 non-null  object \n",
      " 6   tax_value   50562 non-null  float64\n",
      "dtypes: float64(5), object(2)\n",
      "memory usage: 3.1+ MB\n"
     ]
    }
   ],
   "source": [
    "z.info()"
   ]
  },
  {
   "cell_type": "code",
   "execution_count": 19,
   "id": "7f5c5db2",
   "metadata": {},
   "outputs": [
    {
     "data": {
      "text/plain": [
       "bedrooms      0\n",
       "bathrooms     0\n",
       "house_area    0\n",
       "lot_area      0\n",
       "fips          0\n",
       "yearbuilt     0\n",
       "tax_value     0\n",
       "dtype: int64"
      ]
     },
     "execution_count": 19,
     "metadata": {},
     "output_type": "execute_result"
    }
   ],
   "source": [
    "z.isnull().sum()"
   ]
  },
  {
   "cell_type": "code",
   "execution_count": 20,
   "id": "dd903560",
   "metadata": {},
   "outputs": [
    {
     "data": {
      "text/plain": [
       "1955.0    1875\n",
       "1950.0    1572\n",
       "1954.0    1495\n",
       "1953.0    1469\n",
       "1956.0    1365\n",
       "          ... \n",
       "1897.0       1\n",
       "1878.0       1\n",
       "1882.0       1\n",
       "1894.0       1\n",
       "1880.0       1\n",
       "Name: yearbuilt, Length: 132, dtype: int64"
      ]
     },
     "execution_count": 20,
     "metadata": {},
     "output_type": "execute_result"
    }
   ],
   "source": [
    "z.yearbuilt.value_counts()"
   ]
  },
  {
   "cell_type": "code",
   "execution_count": 2,
   "id": "7a1bffe4",
   "metadata": {},
   "outputs": [],
   "source": [
    "import prepare as p"
   ]
  },
  {
   "cell_type": "code",
   "execution_count": 3,
   "id": "ede93309",
   "metadata": {},
   "outputs": [
    {
     "name": "stdout",
     "output_type": "stream",
     "text": [
      "Using cached csv\n"
     ]
    }
   ],
   "source": [
    "z = a.acquire_zillow()"
   ]
  },
  {
   "cell_type": "code",
   "execution_count": 4,
   "id": "553960ca",
   "metadata": {},
   "outputs": [
    {
     "data": {
      "text/html": [
       "<div>\n",
       "<style scoped>\n",
       "    .dataframe tbody tr th:only-of-type {\n",
       "        vertical-align: middle;\n",
       "    }\n",
       "\n",
       "    .dataframe tbody tr th {\n",
       "        vertical-align: top;\n",
       "    }\n",
       "\n",
       "    .dataframe thead th {\n",
       "        text-align: right;\n",
       "    }\n",
       "</style>\n",
       "<table border=\"1\" class=\"dataframe\">\n",
       "  <thead>\n",
       "    <tr style=\"text-align: right;\">\n",
       "      <th></th>\n",
       "      <th>bedrooms</th>\n",
       "      <th>bathrooms</th>\n",
       "      <th>house_area</th>\n",
       "      <th>lot_area</th>\n",
       "      <th>fips</th>\n",
       "      <th>yearbuilt</th>\n",
       "      <th>tax_value</th>\n",
       "    </tr>\n",
       "  </thead>\n",
       "  <tbody>\n",
       "    <tr>\n",
       "      <th>0</th>\n",
       "      <td>4.0</td>\n",
       "      <td>3.5</td>\n",
       "      <td>3100.0</td>\n",
       "      <td>4506.0</td>\n",
       "      <td>6059.0</td>\n",
       "      <td>1998.0</td>\n",
       "      <td>1023282.0</td>\n",
       "    </tr>\n",
       "    <tr>\n",
       "      <th>1</th>\n",
       "      <td>2.0</td>\n",
       "      <td>1.0</td>\n",
       "      <td>1465.0</td>\n",
       "      <td>12647.0</td>\n",
       "      <td>6111.0</td>\n",
       "      <td>1967.0</td>\n",
       "      <td>464000.0</td>\n",
       "    </tr>\n",
       "    <tr>\n",
       "      <th>2</th>\n",
       "      <td>3.0</td>\n",
       "      <td>2.0</td>\n",
       "      <td>1243.0</td>\n",
       "      <td>8432.0</td>\n",
       "      <td>6059.0</td>\n",
       "      <td>1962.0</td>\n",
       "      <td>564778.0</td>\n",
       "    </tr>\n",
       "    <tr>\n",
       "      <th>3</th>\n",
       "      <td>4.0</td>\n",
       "      <td>3.0</td>\n",
       "      <td>2376.0</td>\n",
       "      <td>13038.0</td>\n",
       "      <td>6037.0</td>\n",
       "      <td>1970.0</td>\n",
       "      <td>145143.0</td>\n",
       "    </tr>\n",
       "    <tr>\n",
       "      <th>4</th>\n",
       "      <td>4.0</td>\n",
       "      <td>3.0</td>\n",
       "      <td>2962.0</td>\n",
       "      <td>63000.0</td>\n",
       "      <td>6037.0</td>\n",
       "      <td>1950.0</td>\n",
       "      <td>773303.0</td>\n",
       "    </tr>\n",
       "  </tbody>\n",
       "</table>\n",
       "</div>"
      ],
      "text/plain": [
       "   bedrooms  bathrooms  house_area  lot_area    fips  yearbuilt  tax_value\n",
       "0       4.0        3.5      3100.0    4506.0  6059.0     1998.0  1023282.0\n",
       "1       2.0        1.0      1465.0   12647.0  6111.0     1967.0   464000.0\n",
       "2       3.0        2.0      1243.0    8432.0  6059.0     1962.0   564778.0\n",
       "3       4.0        3.0      2376.0   13038.0  6037.0     1970.0   145143.0\n",
       "4       4.0        3.0      2962.0   63000.0  6037.0     1950.0   773303.0"
      ]
     },
     "execution_count": 4,
     "metadata": {},
     "output_type": "execute_result"
    }
   ],
   "source": [
    "z.head()"
   ]
  },
  {
   "cell_type": "code",
   "execution_count": 6,
   "id": "e040ca78",
   "metadata": {},
   "outputs": [
    {
     "name": "stderr",
     "output_type": "stream",
     "text": [
      "/opt/homebrew/anaconda3/lib/python3.9/site-packages/pandas/core/generic.py:5516: SettingWithCopyWarning: \n",
      "A value is trying to be set on a copy of a slice from a DataFrame.\n",
      "Try using .loc[row_indexer,col_indexer] = value instead\n",
      "\n",
      "See the caveats in the documentation: https://pandas.pydata.org/pandas-docs/stable/user_guide/indexing.html#returning-a-view-versus-a-copy\n",
      "  self[name] = value\n",
      "/Users/brandynwaterman/codeup-data-science/regression_project/prepare.py:24: SettingWithCopyWarning: \n",
      "A value is trying to be set on a copy of a slice from a DataFrame.\n",
      "Try using .loc[row_indexer,col_indexer] = value instead\n",
      "\n",
      "See the caveats in the documentation: https://pandas.pydata.org/pandas-docs/stable/user_guide/indexing.html#returning-a-view-versus-a-copy\n",
      "  df['age'] = 2017 - df.yearbuilt\n"
     ]
    }
   ],
   "source": [
    "train, validate, test = p.prepare_zillow(z)"
   ]
  },
  {
   "cell_type": "code",
   "execution_count": 7,
   "id": "005ffea2",
   "metadata": {},
   "outputs": [
    {
     "data": {
      "text/plain": [
       "((23021, 9), (9867, 9), (8222, 9))"
      ]
     },
     "execution_count": 7,
     "metadata": {},
     "output_type": "execute_result"
    }
   ],
   "source": [
    "train.shape, validate.shape, test.shape"
   ]
  },
  {
   "cell_type": "code",
   "execution_count": 8,
   "id": "916881d3",
   "metadata": {},
   "outputs": [
    {
     "data": {
      "text/plain": [
       "bedrooms      0\n",
       "bathrooms     0\n",
       "house_area    0\n",
       "lot_area      0\n",
       "tax_value     0\n",
       "age           0\n",
       "fips_06037    0\n",
       "fips_06059    0\n",
       "fips_06111    0\n",
       "dtype: int64"
      ]
     },
     "execution_count": 8,
     "metadata": {},
     "output_type": "execute_result"
    }
   ],
   "source": [
    "train.isnull().sum()"
   ]
  },
  {
   "cell_type": "code",
   "execution_count": 9,
   "id": "ee2ec41b",
   "metadata": {},
   "outputs": [
    {
     "data": {
      "text/html": [
       "<div>\n",
       "<style scoped>\n",
       "    .dataframe tbody tr th:only-of-type {\n",
       "        vertical-align: middle;\n",
       "    }\n",
       "\n",
       "    .dataframe tbody tr th {\n",
       "        vertical-align: top;\n",
       "    }\n",
       "\n",
       "    .dataframe thead th {\n",
       "        text-align: right;\n",
       "    }\n",
       "</style>\n",
       "<table border=\"1\" class=\"dataframe\">\n",
       "  <thead>\n",
       "    <tr style=\"text-align: right;\">\n",
       "      <th></th>\n",
       "      <th>bedrooms</th>\n",
       "      <th>bathrooms</th>\n",
       "      <th>house_area</th>\n",
       "      <th>lot_area</th>\n",
       "      <th>tax_value</th>\n",
       "      <th>age</th>\n",
       "      <th>fips_06037</th>\n",
       "      <th>fips_06059</th>\n",
       "      <th>fips_06111</th>\n",
       "    </tr>\n",
       "  </thead>\n",
       "  <tbody>\n",
       "    <tr>\n",
       "      <th>32986</th>\n",
       "      <td>3.0</td>\n",
       "      <td>2.0</td>\n",
       "      <td>1291.0</td>\n",
       "      <td>6904.0</td>\n",
       "      <td>411175.0</td>\n",
       "      <td>20</td>\n",
       "      <td>1</td>\n",
       "      <td>0</td>\n",
       "      <td>0</td>\n",
       "    </tr>\n",
       "    <tr>\n",
       "      <th>41481</th>\n",
       "      <td>4.0</td>\n",
       "      <td>3.0</td>\n",
       "      <td>2235.0</td>\n",
       "      <td>7891.0</td>\n",
       "      <td>181755.0</td>\n",
       "      <td>28</td>\n",
       "      <td>1</td>\n",
       "      <td>0</td>\n",
       "      <td>0</td>\n",
       "    </tr>\n",
       "    <tr>\n",
       "      <th>20796</th>\n",
       "      <td>3.0</td>\n",
       "      <td>2.0</td>\n",
       "      <td>1865.0</td>\n",
       "      <td>5523.0</td>\n",
       "      <td>286479.0</td>\n",
       "      <td>91</td>\n",
       "      <td>1</td>\n",
       "      <td>0</td>\n",
       "      <td>0</td>\n",
       "    </tr>\n",
       "    <tr>\n",
       "      <th>14822</th>\n",
       "      <td>4.0</td>\n",
       "      <td>2.0</td>\n",
       "      <td>1358.0</td>\n",
       "      <td>6300.0</td>\n",
       "      <td>424302.0</td>\n",
       "      <td>55</td>\n",
       "      <td>0</td>\n",
       "      <td>0</td>\n",
       "      <td>1</td>\n",
       "    </tr>\n",
       "    <tr>\n",
       "      <th>24148</th>\n",
       "      <td>3.0</td>\n",
       "      <td>2.5</td>\n",
       "      <td>2463.0</td>\n",
       "      <td>7306.0</td>\n",
       "      <td>610000.0</td>\n",
       "      <td>13</td>\n",
       "      <td>0</td>\n",
       "      <td>0</td>\n",
       "      <td>1</td>\n",
       "    </tr>\n",
       "  </tbody>\n",
       "</table>\n",
       "</div>"
      ],
      "text/plain": [
       "       bedrooms  bathrooms  house_area  lot_area  tax_value  age  fips_06037  \\\n",
       "32986       3.0        2.0      1291.0    6904.0   411175.0   20           1   \n",
       "41481       4.0        3.0      2235.0    7891.0   181755.0   28           1   \n",
       "20796       3.0        2.0      1865.0    5523.0   286479.0   91           1   \n",
       "14822       4.0        2.0      1358.0    6300.0   424302.0   55           0   \n",
       "24148       3.0        2.5      2463.0    7306.0   610000.0   13           0   \n",
       "\n",
       "       fips_06059  fips_06111  \n",
       "32986           0           0  \n",
       "41481           0           0  \n",
       "20796           0           0  \n",
       "14822           0           1  \n",
       "24148           0           1  "
      ]
     },
     "execution_count": 9,
     "metadata": {},
     "output_type": "execute_result"
    }
   ],
   "source": [
    "train.head()"
   ]
  },
  {
   "cell_type": "code",
   "execution_count": 11,
   "id": "4522f28e",
   "metadata": {},
   "outputs": [],
   "source": [
    "train, validate, test = p.scale_zillow(train, validate, test)"
   ]
  },
  {
   "cell_type": "code",
   "execution_count": 12,
   "id": "f8976f60",
   "metadata": {},
   "outputs": [
    {
     "data": {
      "text/html": [
       "<div>\n",
       "<style scoped>\n",
       "    .dataframe tbody tr th:only-of-type {\n",
       "        vertical-align: middle;\n",
       "    }\n",
       "\n",
       "    .dataframe tbody tr th {\n",
       "        vertical-align: top;\n",
       "    }\n",
       "\n",
       "    .dataframe thead th {\n",
       "        text-align: right;\n",
       "    }\n",
       "</style>\n",
       "<table border=\"1\" class=\"dataframe\">\n",
       "  <thead>\n",
       "    <tr style=\"text-align: right;\">\n",
       "      <th></th>\n",
       "      <th>bedrooms</th>\n",
       "      <th>bathrooms</th>\n",
       "      <th>house_area</th>\n",
       "      <th>lot_area</th>\n",
       "      <th>tax_value</th>\n",
       "      <th>age</th>\n",
       "      <th>fips_06037</th>\n",
       "      <th>fips_06059</th>\n",
       "      <th>fips_06111</th>\n",
       "    </tr>\n",
       "  </thead>\n",
       "  <tbody>\n",
       "    <tr>\n",
       "      <th>32986</th>\n",
       "      <td>0.333333</td>\n",
       "      <td>0.333333</td>\n",
       "      <td>0.298669</td>\n",
       "      <td>0.500267</td>\n",
       "      <td>411175.0</td>\n",
       "      <td>0.137681</td>\n",
       "      <td>1</td>\n",
       "      <td>0</td>\n",
       "      <td>0</td>\n",
       "    </tr>\n",
       "    <tr>\n",
       "      <th>41481</th>\n",
       "      <td>0.666667</td>\n",
       "      <td>0.666667</td>\n",
       "      <td>0.590839</td>\n",
       "      <td>0.588251</td>\n",
       "      <td>181755.0</td>\n",
       "      <td>0.195652</td>\n",
       "      <td>1</td>\n",
       "      <td>0</td>\n",
       "      <td>0</td>\n",
       "    </tr>\n",
       "    <tr>\n",
       "      <th>20796</th>\n",
       "      <td>0.333333</td>\n",
       "      <td>0.333333</td>\n",
       "      <td>0.476323</td>\n",
       "      <td>0.377162</td>\n",
       "      <td>286479.0</td>\n",
       "      <td>0.652174</td>\n",
       "      <td>1</td>\n",
       "      <td>0</td>\n",
       "      <td>0</td>\n",
       "    </tr>\n",
       "    <tr>\n",
       "      <th>14822</th>\n",
       "      <td>0.666667</td>\n",
       "      <td>0.333333</td>\n",
       "      <td>0.319406</td>\n",
       "      <td>0.446425</td>\n",
       "      <td>424302.0</td>\n",
       "      <td>0.391304</td>\n",
       "      <td>0</td>\n",
       "      <td>0</td>\n",
       "      <td>1</td>\n",
       "    </tr>\n",
       "    <tr>\n",
       "      <th>24148</th>\n",
       "      <td>0.333333</td>\n",
       "      <td>0.500000</td>\n",
       "      <td>0.661405</td>\n",
       "      <td>0.536103</td>\n",
       "      <td>610000.0</td>\n",
       "      <td>0.086957</td>\n",
       "      <td>0</td>\n",
       "      <td>0</td>\n",
       "      <td>1</td>\n",
       "    </tr>\n",
       "  </tbody>\n",
       "</table>\n",
       "</div>"
      ],
      "text/plain": [
       "       bedrooms  bathrooms  house_area  lot_area  tax_value       age  \\\n",
       "32986  0.333333   0.333333    0.298669  0.500267   411175.0  0.137681   \n",
       "41481  0.666667   0.666667    0.590839  0.588251   181755.0  0.195652   \n",
       "20796  0.333333   0.333333    0.476323  0.377162   286479.0  0.652174   \n",
       "14822  0.666667   0.333333    0.319406  0.446425   424302.0  0.391304   \n",
       "24148  0.333333   0.500000    0.661405  0.536103   610000.0  0.086957   \n",
       "\n",
       "       fips_06037  fips_06059  fips_06111  \n",
       "32986           1           0           0  \n",
       "41481           1           0           0  \n",
       "20796           1           0           0  \n",
       "14822           0           0           1  \n",
       "24148           0           0           1  "
      ]
     },
     "execution_count": 12,
     "metadata": {},
     "output_type": "execute_result"
    }
   ],
   "source": [
    "train.head()"
   ]
  },
  {
   "cell_type": "code",
   "execution_count": null,
   "id": "3cacf3ce",
   "metadata": {},
   "outputs": [],
   "source": []
  }
 ],
 "metadata": {
  "kernelspec": {
   "display_name": "Python 3.9.7 64-bit ('base': conda)",
   "language": "python",
   "name": "python397jvsc74a57bd038cca0c38332a56087b24af0bc80247f4fced29cb4f7f437d91dc159adec9c4e"
  },
  "language_info": {
   "codemirror_mode": {
    "name": "ipython",
    "version": 3
   },
   "file_extension": ".py",
   "mimetype": "text/x-python",
   "name": "python",
   "nbconvert_exporter": "python",
   "pygments_lexer": "ipython3",
   "version": "3.9.7"
  }
 },
 "nbformat": 4,
 "nbformat_minor": 5
}
