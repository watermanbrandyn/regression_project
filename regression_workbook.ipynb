{
 "cells": [
  {
   "cell_type": "code",
   "execution_count": 1,
   "id": "a12a6791",
   "metadata": {},
   "outputs": [],
   "source": [
    "# files/modules\n",
    "from env import host, user, password\n",
    "import acquire as a\n",
    "\n",
    "# manipulations\n",
    "import pandas as pd\n",
    "import numpy as np\n",
    "\n",
    "# Viz\n",
    "import matplotlib.pyplot as plt\n",
    "import seaborn as sns"
   ]
  },
  {
   "cell_type": "markdown",
   "id": "65aa9c46",
   "metadata": {},
   "source": [
    "## Acquire\n",
    "'Basic' columns and then all of the columns for Zillow data (that meets parameters)"
   ]
  },
  {
   "cell_type": "code",
   "execution_count": 2,
   "id": "75b6b444",
   "metadata": {},
   "outputs": [
    {
     "name": "stdout",
     "output_type": "stream",
     "text": [
      "Acquiring data from SQL db\n"
     ]
    }
   ],
   "source": [
    "zillow = a.basic_acquire_zillow()"
   ]
  },
  {
   "cell_type": "code",
   "execution_count": 3,
   "id": "a08085e2",
   "metadata": {},
   "outputs": [
    {
     "name": "stdout",
     "output_type": "stream",
     "text": [
      "<class 'pandas.core.frame.DataFrame'>\n",
      "RangeIndex: 52441 entries, 0 to 52440\n",
      "Data columns (total 4 columns):\n",
      " #   Column     Non-Null Count  Dtype  \n",
      "---  ------     --------------  -----  \n",
      " 0   bedrooms   52441 non-null  float64\n",
      " 1   bathrooms  52441 non-null  float64\n",
      " 2   area       52359 non-null  float64\n",
      " 3   tax_value  52440 non-null  float64\n",
      "dtypes: float64(4)\n",
      "memory usage: 1.6 MB\n"
     ]
    }
   ],
   "source": [
    "zillow.info()"
   ]
  },
  {
   "cell_type": "code",
   "execution_count": 4,
   "id": "f348a984",
   "metadata": {},
   "outputs": [
    {
     "name": "stdout",
     "output_type": "stream",
     "text": [
      "Acquiring data from SQL db\n"
     ]
    }
   ],
   "source": [
    "zillow_l = a.larger_acquire_zillow()"
   ]
  },
  {
   "cell_type": "code",
   "execution_count": 5,
   "id": "6d04b89e",
   "metadata": {},
   "outputs": [
    {
     "name": "stdout",
     "output_type": "stream",
     "text": [
      "<class 'pandas.core.frame.DataFrame'>\n",
      "RangeIndex: 52441 entries, 0 to 52440\n",
      "Data columns (total 63 columns):\n",
      " #   Column                        Non-Null Count  Dtype  \n",
      "---  ------                        --------------  -----  \n",
      " 0   parcelid                      52441 non-null  int64  \n",
      " 1   propertylandusetypeid         52441 non-null  float64\n",
      " 2   id                            52441 non-null  int64  \n",
      " 3   airconditioningtypeid         13638 non-null  float64\n",
      " 4   architecturalstyletypeid      70 non-null     float64\n",
      " 5   basementsqft                  47 non-null     float64\n",
      " 6   bathroomcnt                   52441 non-null  float64\n",
      " 7   bedroomcnt                    52441 non-null  float64\n",
      " 8   buildingclasstypeid           0 non-null      object \n",
      " 9   buildingqualitytypeid         33740 non-null  float64\n",
      " 10  calculatedbathnbr             52304 non-null  float64\n",
      " 11  decktypeid                    389 non-null    float64\n",
      " 12  finishedfloor1squarefeet      4381 non-null   float64\n",
      " 13  calculatedfinishedsquarefeet  52359 non-null  float64\n",
      " 14  finishedsquarefeet12          52194 non-null  float64\n",
      " 15  finishedsquarefeet13          0 non-null      object \n",
      " 16  finishedsquarefeet15          0 non-null      object \n",
      " 17  finishedsquarefeet50          4381 non-null   float64\n",
      " 18  finishedsquarefeet6           165 non-null    float64\n",
      " 19  fips                          52441 non-null  float64\n",
      " 20  fireplacecnt                  7243 non-null   float64\n",
      " 21  fullbathcnt                   52304 non-null  float64\n",
      " 22  garagecarcnt                  18015 non-null  float64\n",
      " 23  garagetotalsqft               18015 non-null  float64\n",
      " 24  hashottuborspa                1515 non-null   float64\n",
      " 25  heatingorsystemtypeid         33935 non-null  float64\n",
      " 26  latitude                      52441 non-null  float64\n",
      " 27  longitude                     52441 non-null  float64\n",
      " 28  lotsizesquarefeet             52072 non-null  float64\n",
      " 29  poolcnt                       11096 non-null  float64\n",
      " 30  poolsizesum                   867 non-null    float64\n",
      " 31  pooltypeid10                  444 non-null    float64\n",
      " 32  pooltypeid2                   1071 non-null   float64\n",
      " 33  pooltypeid7                   10009 non-null  float64\n",
      " 34  propertycountylandusecode     52441 non-null  object \n",
      " 35  propertyzoningdesc            33848 non-null  object \n",
      " 36  rawcensustractandblock        52441 non-null  float64\n",
      " 37  regionidcity                  51404 non-null  float64\n",
      " 38  regionidcounty                52441 non-null  float64\n",
      " 39  regionidneighborhood          19033 non-null  float64\n",
      " 40  regionidzip                   52415 non-null  float64\n",
      " 41  roomcnt                       52441 non-null  float64\n",
      " 42  storytypeid                   47 non-null     float64\n",
      " 43  threequarterbathnbr           6724 non-null   float64\n",
      " 44  typeconstructiontypeid        76 non-null     float64\n",
      " 45  unitcnt                       33847 non-null  float64\n",
      " 46  yardbuildingsqft17            1937 non-null   float64\n",
      " 47  yardbuildingsqft26            63 non-null     float64\n",
      " 48  yearbuilt                     52325 non-null  float64\n",
      " 49  numberofstories               14561 non-null  float64\n",
      " 50  fireplaceflag                 81 non-null     float64\n",
      " 51  structuretaxvaluedollarcnt    52357 non-null  float64\n",
      " 52  taxvaluedollarcnt             52440 non-null  float64\n",
      " 53  assessmentyear                52441 non-null  float64\n",
      " 54  landtaxvaluedollarcnt         52440 non-null  float64\n",
      " 55  taxamount                     52437 non-null  float64\n",
      " 56  taxdelinquencyflag            2079 non-null   object \n",
      " 57  taxdelinquencyyear            2079 non-null   float64\n",
      " 58  censustractandblock           52318 non-null  float64\n",
      " 59  propertylandusedesc           52441 non-null  object \n",
      " 60  id                            52441 non-null  int64  \n",
      " 61  logerror                      52441 non-null  float64\n",
      " 62  transactiondate               52441 non-null  object \n",
      "dtypes: float64(52), int64(3), object(8)\n",
      "memory usage: 25.2+ MB\n"
     ]
    }
   ],
   "source": [
    "zillow_l.info()"
   ]
  },
  {
   "cell_type": "markdown",
   "id": "0e3844c8",
   "metadata": {},
   "source": [
    "## Preparation/Splitting\n"
   ]
  },
  {
   "cell_type": "code",
   "execution_count": 8,
   "id": "aa7d78a2",
   "metadata": {},
   "outputs": [
    {
     "data": {
      "text/plain": [
       "bedrooms      0\n",
       "bathrooms     0\n",
       "area         82\n",
       "tax_value     1\n",
       "dtype: int64"
      ]
     },
     "execution_count": 8,
     "metadata": {},
     "output_type": "execute_result"
    }
   ],
   "source": [
    "# looking at null counts\n",
    "zillow.isnull().sum()"
   ]
  },
  {
   "cell_type": "code",
   "execution_count": 9,
   "id": "e0999219",
   "metadata": {},
   "outputs": [
    {
     "data": {
      "text/plain": [
       "parcelid                        0\n",
       "propertylandusetypeid           0\n",
       "id                              0\n",
       "airconditioningtypeid       38803\n",
       "architecturalstyletypeid    52371\n",
       "                            ...  \n",
       "censustractandblock           123\n",
       "propertylandusedesc             0\n",
       "id                              0\n",
       "logerror                        0\n",
       "transactiondate                 0\n",
       "Length: 63, dtype: int64"
      ]
     },
     "execution_count": 9,
     "metadata": {},
     "output_type": "execute_result"
    }
   ],
   "source": [
    "zillow_l.isnull().sum()"
   ]
  },
  {
   "cell_type": "code",
   "execution_count": 10,
   "id": "c0dbf3ea",
   "metadata": {},
   "outputs": [],
   "source": [
    "# The nulls for aircondition and architecture are so large, going to drop columns entirely. Also dropping \n",
    "# landtaxvaluedollarcnt, structuretaxvaluedollarcnt, and taxamount for target variable (taxvaluedollarcnt) integrity."
   ]
  },
  {
   "cell_type": "code",
   "execution_count": 11,
   "id": "be26a17d",
   "metadata": {},
   "outputs": [],
   "source": [
    "zillow_l = zillow_l.drop(columns= ['airconditioningtypeid', 'architecturalstyletypeid', 'landtaxvaluedollarcnt',\n",
    "                                  'structuretaxvaluedollarcnt', 'taxamount'])"
   ]
  },
  {
   "cell_type": "code",
   "execution_count": 30,
   "id": "67f556c1",
   "metadata": {},
   "outputs": [],
   "source": [
    "nulls_tax = zillow[zillow.tax_value.isna()]"
   ]
  },
  {
   "cell_type": "code",
   "execution_count": 32,
   "id": "3bad43d3",
   "metadata": {},
   "outputs": [],
   "source": [
    "nulls_area = zillow[zillow.area.isna()]"
   ]
  },
  {
   "cell_type": "code",
   "execution_count": 36,
   "id": "f7131873",
   "metadata": {},
   "outputs": [
    {
     "data": {
      "text/plain": [
       "bedrooms  bathrooms  area  tax_value\n",
       "0.0       0.0        NaN   5346951.0    2\n",
       "                           7771.0       1\n",
       "                           3136161.0    1\n",
       "                           2979077.0    1\n",
       "                           2909706.0    1\n",
       "                                       ..\n",
       "                           544456.0     1\n",
       "                           468439.0     1\n",
       "                           422962.0     1\n",
       "                           406100.0     1\n",
       "5.0       4.5        NaN   1461048.0    1\n",
       "Length: 81, dtype: int64"
      ]
     },
     "execution_count": 36,
     "metadata": {},
     "output_type": "execute_result"
    }
   ],
   "source": [
    "nulls_area.value_counts(dropna=False)"
   ]
  },
  {
   "cell_type": "code",
   "execution_count": 37,
   "id": "571a8134",
   "metadata": {},
   "outputs": [
    {
     "data": {
      "text/html": [
       "<div>\n",
       "<style scoped>\n",
       "    .dataframe tbody tr th:only-of-type {\n",
       "        vertical-align: middle;\n",
       "    }\n",
       "\n",
       "    .dataframe tbody tr th {\n",
       "        vertical-align: top;\n",
       "    }\n",
       "\n",
       "    .dataframe thead th {\n",
       "        text-align: right;\n",
       "    }\n",
       "</style>\n",
       "<table border=\"1\" class=\"dataframe\">\n",
       "  <thead>\n",
       "    <tr style=\"text-align: right;\">\n",
       "      <th></th>\n",
       "      <th>bedrooms</th>\n",
       "      <th>bathrooms</th>\n",
       "      <th>area</th>\n",
       "      <th>tax_value</th>\n",
       "    </tr>\n",
       "  </thead>\n",
       "  <tbody>\n",
       "    <tr>\n",
       "      <th>124</th>\n",
       "      <td>0.0</td>\n",
       "      <td>0.0</td>\n",
       "      <td>NaN</td>\n",
       "      <td>830145.0</td>\n",
       "    </tr>\n",
       "    <tr>\n",
       "      <th>3322</th>\n",
       "      <td>0.0</td>\n",
       "      <td>0.0</td>\n",
       "      <td>NaN</td>\n",
       "      <td>643406.0</td>\n",
       "    </tr>\n",
       "    <tr>\n",
       "      <th>4465</th>\n",
       "      <td>2.0</td>\n",
       "      <td>1.0</td>\n",
       "      <td>NaN</td>\n",
       "      <td>488078.0</td>\n",
       "    </tr>\n",
       "    <tr>\n",
       "      <th>4605</th>\n",
       "      <td>0.0</td>\n",
       "      <td>0.0</td>\n",
       "      <td>NaN</td>\n",
       "      <td>2909706.0</td>\n",
       "    </tr>\n",
       "    <tr>\n",
       "      <th>5065</th>\n",
       "      <td>0.0</td>\n",
       "      <td>0.0</td>\n",
       "      <td>NaN</td>\n",
       "      <td>5080924.0</td>\n",
       "    </tr>\n",
       "    <tr>\n",
       "      <th>5379</th>\n",
       "      <td>0.0</td>\n",
       "      <td>0.0</td>\n",
       "      <td>NaN</td>\n",
       "      <td>2979077.0</td>\n",
       "    </tr>\n",
       "    <tr>\n",
       "      <th>5558</th>\n",
       "      <td>0.0</td>\n",
       "      <td>0.0</td>\n",
       "      <td>NaN</td>\n",
       "      <td>178684.0</td>\n",
       "    </tr>\n",
       "    <tr>\n",
       "      <th>5767</th>\n",
       "      <td>0.0</td>\n",
       "      <td>0.0</td>\n",
       "      <td>NaN</td>\n",
       "      <td>6900769.0</td>\n",
       "    </tr>\n",
       "    <tr>\n",
       "      <th>6592</th>\n",
       "      <td>0.0</td>\n",
       "      <td>0.0</td>\n",
       "      <td>NaN</td>\n",
       "      <td>375218.0</td>\n",
       "    </tr>\n",
       "    <tr>\n",
       "      <th>7350</th>\n",
       "      <td>0.0</td>\n",
       "      <td>0.0</td>\n",
       "      <td>NaN</td>\n",
       "      <td>2504615.0</td>\n",
       "    </tr>\n",
       "    <tr>\n",
       "      <th>7433</th>\n",
       "      <td>0.0</td>\n",
       "      <td>0.0</td>\n",
       "      <td>NaN</td>\n",
       "      <td>656601.0</td>\n",
       "    </tr>\n",
       "    <tr>\n",
       "      <th>7498</th>\n",
       "      <td>0.0</td>\n",
       "      <td>0.0</td>\n",
       "      <td>NaN</td>\n",
       "      <td>4619789.0</td>\n",
       "    </tr>\n",
       "    <tr>\n",
       "      <th>7797</th>\n",
       "      <td>0.0</td>\n",
       "      <td>0.0</td>\n",
       "      <td>NaN</td>\n",
       "      <td>16477.0</td>\n",
       "    </tr>\n",
       "    <tr>\n",
       "      <th>7877</th>\n",
       "      <td>0.0</td>\n",
       "      <td>0.0</td>\n",
       "      <td>NaN</td>\n",
       "      <td>38206.0</td>\n",
       "    </tr>\n",
       "    <tr>\n",
       "      <th>8853</th>\n",
       "      <td>0.0</td>\n",
       "      <td>0.0</td>\n",
       "      <td>NaN</td>\n",
       "      <td>973624.0</td>\n",
       "    </tr>\n",
       "    <tr>\n",
       "      <th>9001</th>\n",
       "      <td>0.0</td>\n",
       "      <td>0.0</td>\n",
       "      <td>NaN</td>\n",
       "      <td>26405.0</td>\n",
       "    </tr>\n",
       "    <tr>\n",
       "      <th>10061</th>\n",
       "      <td>0.0</td>\n",
       "      <td>0.0</td>\n",
       "      <td>NaN</td>\n",
       "      <td>1575136.0</td>\n",
       "    </tr>\n",
       "    <tr>\n",
       "      <th>10199</th>\n",
       "      <td>0.0</td>\n",
       "      <td>0.0</td>\n",
       "      <td>NaN</td>\n",
       "      <td>3491679.0</td>\n",
       "    </tr>\n",
       "    <tr>\n",
       "      <th>10389</th>\n",
       "      <td>0.0</td>\n",
       "      <td>0.0</td>\n",
       "      <td>NaN</td>\n",
       "      <td>2798542.0</td>\n",
       "    </tr>\n",
       "    <tr>\n",
       "      <th>10438</th>\n",
       "      <td>0.0</td>\n",
       "      <td>0.0</td>\n",
       "      <td>NaN</td>\n",
       "      <td>3081000.0</td>\n",
       "    </tr>\n",
       "    <tr>\n",
       "      <th>10900</th>\n",
       "      <td>2.0</td>\n",
       "      <td>1.5</td>\n",
       "      <td>NaN</td>\n",
       "      <td>719590.0</td>\n",
       "    </tr>\n",
       "    <tr>\n",
       "      <th>10959</th>\n",
       "      <td>0.0</td>\n",
       "      <td>0.0</td>\n",
       "      <td>NaN</td>\n",
       "      <td>689927.0</td>\n",
       "    </tr>\n",
       "    <tr>\n",
       "      <th>11475</th>\n",
       "      <td>0.0</td>\n",
       "      <td>0.0</td>\n",
       "      <td>NaN</td>\n",
       "      <td>1154101.0</td>\n",
       "    </tr>\n",
       "    <tr>\n",
       "      <th>11646</th>\n",
       "      <td>0.0</td>\n",
       "      <td>0.0</td>\n",
       "      <td>NaN</td>\n",
       "      <td>2074884.0</td>\n",
       "    </tr>\n",
       "    <tr>\n",
       "      <th>12740</th>\n",
       "      <td>2.0</td>\n",
       "      <td>1.0</td>\n",
       "      <td>NaN</td>\n",
       "      <td>400778.0</td>\n",
       "    </tr>\n",
       "    <tr>\n",
       "      <th>12835</th>\n",
       "      <td>0.0</td>\n",
       "      <td>0.0</td>\n",
       "      <td>NaN</td>\n",
       "      <td>174010.0</td>\n",
       "    </tr>\n",
       "    <tr>\n",
       "      <th>13429</th>\n",
       "      <td>0.0</td>\n",
       "      <td>0.0</td>\n",
       "      <td>NaN</td>\n",
       "      <td>422962.0</td>\n",
       "    </tr>\n",
       "    <tr>\n",
       "      <th>13640</th>\n",
       "      <td>0.0</td>\n",
       "      <td>0.0</td>\n",
       "      <td>NaN</td>\n",
       "      <td>5346951.0</td>\n",
       "    </tr>\n",
       "    <tr>\n",
       "      <th>13641</th>\n",
       "      <td>0.0</td>\n",
       "      <td>0.0</td>\n",
       "      <td>NaN</td>\n",
       "      <td>5346951.0</td>\n",
       "    </tr>\n",
       "    <tr>\n",
       "      <th>15265</th>\n",
       "      <td>0.0</td>\n",
       "      <td>0.0</td>\n",
       "      <td>NaN</td>\n",
       "      <td>2262676.0</td>\n",
       "    </tr>\n",
       "  </tbody>\n",
       "</table>\n",
       "</div>"
      ],
      "text/plain": [
       "       bedrooms  bathrooms  area  tax_value\n",
       "124         0.0        0.0   NaN   830145.0\n",
       "3322        0.0        0.0   NaN   643406.0\n",
       "4465        2.0        1.0   NaN   488078.0\n",
       "4605        0.0        0.0   NaN  2909706.0\n",
       "5065        0.0        0.0   NaN  5080924.0\n",
       "5379        0.0        0.0   NaN  2979077.0\n",
       "5558        0.0        0.0   NaN   178684.0\n",
       "5767        0.0        0.0   NaN  6900769.0\n",
       "6592        0.0        0.0   NaN   375218.0\n",
       "7350        0.0        0.0   NaN  2504615.0\n",
       "7433        0.0        0.0   NaN   656601.0\n",
       "7498        0.0        0.0   NaN  4619789.0\n",
       "7797        0.0        0.0   NaN    16477.0\n",
       "7877        0.0        0.0   NaN    38206.0\n",
       "8853        0.0        0.0   NaN   973624.0\n",
       "9001        0.0        0.0   NaN    26405.0\n",
       "10061       0.0        0.0   NaN  1575136.0\n",
       "10199       0.0        0.0   NaN  3491679.0\n",
       "10389       0.0        0.0   NaN  2798542.0\n",
       "10438       0.0        0.0   NaN  3081000.0\n",
       "10900       2.0        1.5   NaN   719590.0\n",
       "10959       0.0        0.0   NaN   689927.0\n",
       "11475       0.0        0.0   NaN  1154101.0\n",
       "11646       0.0        0.0   NaN  2074884.0\n",
       "12740       2.0        1.0   NaN   400778.0\n",
       "12835       0.0        0.0   NaN   174010.0\n",
       "13429       0.0        0.0   NaN   422962.0\n",
       "13640       0.0        0.0   NaN  5346951.0\n",
       "13641       0.0        0.0   NaN  5346951.0\n",
       "15265       0.0        0.0   NaN  2262676.0"
      ]
     },
     "execution_count": 37,
     "metadata": {},
     "output_type": "execute_result"
    }
   ],
   "source": [
    "nulls_area.head(30)"
   ]
  },
  {
   "cell_type": "code",
   "execution_count": 38,
   "id": "65bb0ea3",
   "metadata": {},
   "outputs": [],
   "source": [
    "zillow = zillow.dropna()"
   ]
  },
  {
   "cell_type": "code",
   "execution_count": 39,
   "id": "9956d97d",
   "metadata": {},
   "outputs": [
    {
     "name": "stdout",
     "output_type": "stream",
     "text": [
      "<class 'pandas.core.frame.DataFrame'>\n",
      "Int64Index: 52358 entries, 0 to 52440\n",
      "Data columns (total 4 columns):\n",
      " #   Column     Non-Null Count  Dtype  \n",
      "---  ------     --------------  -----  \n",
      " 0   bedrooms   52358 non-null  float64\n",
      " 1   bathrooms  52358 non-null  float64\n",
      " 2   area       52358 non-null  float64\n",
      " 3   tax_value  52358 non-null  float64\n",
      "dtypes: float64(4)\n",
      "memory usage: 2.0 MB\n"
     ]
    }
   ],
   "source": [
    "zillow.info()"
   ]
  },
  {
   "cell_type": "code",
   "execution_count": 40,
   "id": "9cbe29cd",
   "metadata": {},
   "outputs": [],
   "source": [
    "# The nulls were largely from 0s in multiple columns, so dropped all nulls. Did not consider\n",
    "# worth imputing the data. Was also a very small portion of the total dataset."
   ]
  },
  {
   "cell_type": "code",
   "execution_count": 41,
   "id": "cc377b4e",
   "metadata": {},
   "outputs": [
    {
     "data": {
      "text/plain": [
       "bedrooms     0\n",
       "bathrooms    0\n",
       "area         0\n",
       "tax_value    0\n",
       "dtype: int64"
      ]
     },
     "execution_count": 41,
     "metadata": {},
     "output_type": "execute_result"
    }
   ],
   "source": [
    "zillow.isnull().sum()"
   ]
  },
  {
   "cell_type": "code",
   "execution_count": 42,
   "id": "70301e55",
   "metadata": {},
   "outputs": [
    {
     "data": {
      "text/plain": [
       "3.0     23359\n",
       "4.0     15239\n",
       "2.0      8336\n",
       "5.0      3972\n",
       "6.0       635\n",
       "1.0       609\n",
       "7.0       106\n",
       "0.0        63\n",
       "8.0        24\n",
       "9.0         8\n",
       "12.0        3\n",
       "10.0        2\n",
       "14.0        1\n",
       "11.0        1\n",
       "Name: bedrooms, dtype: int64"
      ]
     },
     "execution_count": 42,
     "metadata": {},
     "output_type": "execute_result"
    }
   ],
   "source": [
    "zillow.bedrooms.value_counts()"
   ]
  },
  {
   "cell_type": "code",
   "execution_count": 43,
   "id": "49a9159a",
   "metadata": {},
   "outputs": [
    {
     "data": {
      "text/plain": [
       "2.0     21892\n",
       "3.0     10673\n",
       "1.0      9562\n",
       "2.5      3934\n",
       "4.0      2227\n",
       "3.5       918\n",
       "1.5       840\n",
       "5.0       803\n",
       "4.5       686\n",
       "6.0       322\n",
       "5.5       224\n",
       "7.0        88\n",
       "8.0        53\n",
       "6.5        47\n",
       "0.0        47\n",
       "7.5        16\n",
       "9.0        13\n",
       "10.0        5\n",
       "11.0        3\n",
       "8.5         3\n",
       "18.0        1\n",
       "13.0        1\n",
       "Name: bathrooms, dtype: int64"
      ]
     },
     "execution_count": 43,
     "metadata": {},
     "output_type": "execute_result"
    }
   ],
   "source": [
    "zillow.bathrooms.value_counts()"
   ]
  },
  {
   "cell_type": "code",
   "execution_count": 49,
   "id": "3cb3b826",
   "metadata": {},
   "outputs": [
    {
     "data": {
      "text/html": [
       "<div>\n",
       "<style scoped>\n",
       "    .dataframe tbody tr th:only-of-type {\n",
       "        vertical-align: middle;\n",
       "    }\n",
       "\n",
       "    .dataframe tbody tr th {\n",
       "        vertical-align: top;\n",
       "    }\n",
       "\n",
       "    .dataframe thead th {\n",
       "        text-align: right;\n",
       "    }\n",
       "</style>\n",
       "<table border=\"1\" class=\"dataframe\">\n",
       "  <thead>\n",
       "    <tr style=\"text-align: right;\">\n",
       "      <th></th>\n",
       "      <th>bedrooms</th>\n",
       "      <th>bathrooms</th>\n",
       "      <th>area</th>\n",
       "      <th>tax_value</th>\n",
       "    </tr>\n",
       "  </thead>\n",
       "  <tbody>\n",
       "  </tbody>\n",
       "</table>\n",
       "</div>"
      ],
      "text/plain": [
       "Empty DataFrame\n",
       "Columns: [bedrooms, bathrooms, area, tax_value]\n",
       "Index: []"
      ]
     },
     "execution_count": 49,
     "metadata": {},
     "output_type": "execute_result"
    }
   ],
   "source": [
    "zillow[zillow.area == 0]"
   ]
  },
  {
   "cell_type": "code",
   "execution_count": 52,
   "id": "cf9d4a17",
   "metadata": {},
   "outputs": [
    {
     "data": {
      "text/html": [
       "<div>\n",
       "<style scoped>\n",
       "    .dataframe tbody tr th:only-of-type {\n",
       "        vertical-align: middle;\n",
       "    }\n",
       "\n",
       "    .dataframe tbody tr th {\n",
       "        vertical-align: top;\n",
       "    }\n",
       "\n",
       "    .dataframe thead th {\n",
       "        text-align: right;\n",
       "    }\n",
       "</style>\n",
       "<table border=\"1\" class=\"dataframe\">\n",
       "  <thead>\n",
       "    <tr style=\"text-align: right;\">\n",
       "      <th></th>\n",
       "      <th>bedrooms</th>\n",
       "      <th>bathrooms</th>\n",
       "      <th>area</th>\n",
       "      <th>tax_value</th>\n",
       "    </tr>\n",
       "  </thead>\n",
       "  <tbody>\n",
       "  </tbody>\n",
       "</table>\n",
       "</div>"
      ],
      "text/plain": [
       "Empty DataFrame\n",
       "Columns: [bedrooms, bathrooms, area, tax_value]\n",
       "Index: []"
      ]
     },
     "execution_count": 52,
     "metadata": {},
     "output_type": "execute_result"
    }
   ],
   "source": [
    "zillow[zillow.tax_value == 0]"
   ]
  },
  {
   "cell_type": "code",
   "execution_count": 54,
   "id": "f4ba6807",
   "metadata": {},
   "outputs": [],
   "source": [
    "# Some visualizations of columns"
   ]
  },
  {
   "cell_type": "code",
   "execution_count": 57,
   "id": "ae75c7ab",
   "metadata": {},
   "outputs": [
    {
     "data": {
      "image/png": "[encoded data removed]",
      "text/plain": [
       "<Figure size 1152x432 with 4 Axes>"
      ]
     },
     "metadata": {
      "needs_background": "light"
     },
     "output_type": "display_data"
    }
   ],
   "source": [
    "cols = [col for col in zillow.columns]\n",
    "plt.figure(figsize=(16,6))\n",
    "for i, col in enumerate(cols):\n",
    "    plot_number = i + 1\n",
    "    plt.subplot(1, len(cols), plot_number)\n",
    "    plt.title(col)\n",
    "    zillow[col].hist(bins=5)\n",
    "    plt.grid(False)\n",
    "    plt.ticklabel_format(useOffset=False)\n",
    "    \n",
    "plt.show()"
   ]
  },
  {
   "cell_type": "code",
   "execution_count": 58,
   "id": "ea1f3b2e",
   "metadata": {},
   "outputs": [
    {
     "data": {
      "text/plain": [
       "0    1023282.0\n",
       "1     464000.0\n",
       "2     564778.0\n",
       "3     145143.0\n",
       "4     773303.0\n",
       "Name: tax_value, dtype: float64"
      ]
     },
     "execution_count": 58,
     "metadata": {},
     "output_type": "execute_result"
    }
   ],
   "source": [
    "zillow.tax_value.head()"
   ]
  },
  {
   "cell_type": "code",
   "execution_count": 60,
   "id": "43988e3f",
   "metadata": {},
   "outputs": [
    {
     "data": {
      "text/plain": [
       "parcelid                            0\n",
       "propertylandusetypeid               0\n",
       "id                                  0\n",
       "basementsqft                    52394\n",
       "bathroomcnt                         0\n",
       "bedroomcnt                          0\n",
       "buildingclasstypeid             52441\n",
       "buildingqualitytypeid           18701\n",
       "calculatedbathnbr                 137\n",
       "decktypeid                      52052\n",
       "finishedfloor1squarefeet        48060\n",
       "calculatedfinishedsquarefeet       82\n",
       "finishedsquarefeet12              247\n",
       "finishedsquarefeet13            52441\n",
       "finishedsquarefeet15            52441\n",
       "finishedsquarefeet50            48060\n",
       "finishedsquarefeet6             52276\n",
       "fips                                0\n",
       "fireplacecnt                    45198\n",
       "fullbathcnt                       137\n",
       "garagecarcnt                    34426\n",
       "garagetotalsqft                 34426\n",
       "hashottuborspa                  50926\n",
       "heatingorsystemtypeid           18506\n",
       "latitude                            0\n",
       "longitude                           0\n",
       "lotsizesquarefeet                 369\n",
       "poolcnt                         41345\n",
       "poolsizesum                     51574\n",
       "pooltypeid10                    51997\n",
       "pooltypeid2                     51370\n",
       "pooltypeid7                     42432\n",
       "propertycountylandusecode           0\n",
       "propertyzoningdesc              18593\n",
       "rawcensustractandblock              0\n",
       "regionidcity                     1037\n",
       "regionidcounty                      0\n",
       "regionidneighborhood            33408\n",
       "regionidzip                        26\n",
       "roomcnt                             0\n",
       "storytypeid                     52394\n",
       "threequarterbathnbr             45717\n",
       "typeconstructiontypeid          52365\n",
       "unitcnt                         18594\n",
       "yardbuildingsqft17              50504\n",
       "yardbuildingsqft26              52378\n",
       "yearbuilt                         116\n",
       "numberofstories                 37880\n",
       "fireplaceflag                   52360\n",
       "taxvaluedollarcnt                   1\n",
       "assessmentyear                      0\n",
       "taxdelinquencyflag              50362\n",
       "taxdelinquencyyear              50362\n",
       "censustractandblock               123\n",
       "propertylandusedesc                 0\n",
       "id                                  0\n",
       "logerror                            0\n",
       "transactiondate                     0\n",
       "dtype: int64"
      ]
     },
     "execution_count": 60,
     "metadata": {},
     "output_type": "execute_result"
    }
   ],
   "source": [
    "zillow_l.isnull().sum()"
   ]
  },
  {
   "cell_type": "code",
   "execution_count": 76,
   "id": "13156c14",
   "metadata": {},
   "outputs": [
    {
     "name": "stdout",
     "output_type": "stream",
     "text": [
      "False\n",
      "False\n",
      "id    False\n",
      "id    False\n",
      "dtype: bool\n",
      "True\n",
      "False\n",
      "False\n",
      "True\n",
      "True\n",
      "False\n",
      "True\n",
      "True\n",
      "False\n",
      "False\n",
      "True\n",
      "True\n",
      "True\n",
      "True\n",
      "False\n",
      "True\n",
      "False\n",
      "True\n",
      "True\n",
      "True\n",
      "True\n",
      "False\n",
      "False\n",
      "False\n",
      "True\n",
      "True\n",
      "True\n",
      "True\n",
      "True\n",
      "False\n",
      "True\n",
      "False\n",
      "False\n",
      "False\n",
      "True\n",
      "False\n",
      "False\n",
      "True\n",
      "True\n",
      "True\n",
      "True\n",
      "True\n",
      "True\n",
      "False\n",
      "True\n",
      "True\n",
      "False\n",
      "False\n",
      "True\n",
      "True\n",
      "False\n",
      "False\n",
      "id    False\n",
      "id    False\n",
      "dtype: bool\n",
      "False\n",
      "False\n"
     ]
    }
   ],
   "source": [
    "for col in cols:\n",
    "    print(zillow_l[col].isna().sum() >= (.25 * zillow_l[col].count()))"
   ]
  },
  {
   "cell_type": "code",
   "execution_count": 100,
   "id": "85584332",
   "metadata": {},
   "outputs": [],
   "source": [
    "for col in zillow_l:\n",
    "    if zillow_l[col].isna().sum() >= (.25 * len(zillow_l)):\n",
    "        zillow_l = zillow_l.drop(columns = col)"
   ]
  },
  {
   "cell_type": "code",
   "execution_count": 101,
   "id": "500d7477",
   "metadata": {},
   "outputs": [
    {
     "name": "stdout",
     "output_type": "stream",
     "text": [
      "<class 'pandas.core.frame.DataFrame'>\n",
      "RangeIndex: 52441 entries, 0 to 52440\n",
      "Data columns (total 25 columns):\n",
      " #   Column                        Non-Null Count  Dtype  \n",
      "---  ------                        --------------  -----  \n",
      " 0   parcelid                      52441 non-null  int64  \n",
      " 1   propertylandusetypeid         52441 non-null  float64\n",
      " 2   bathroomcnt                   52441 non-null  float64\n",
      " 3   bedroomcnt                    52441 non-null  float64\n",
      " 4   calculatedbathnbr             52304 non-null  float64\n",
      " 5   calculatedfinishedsquarefeet  52359 non-null  float64\n",
      " 6   finishedsquarefeet12          52194 non-null  float64\n",
      " 7   fips                          52441 non-null  float64\n",
      " 8   fullbathcnt                   52304 non-null  float64\n",
      " 9   latitude                      52441 non-null  float64\n",
      " 10  longitude                     52441 non-null  float64\n",
      " 11  lotsizesquarefeet             52072 non-null  float64\n",
      " 12  propertycountylandusecode     52441 non-null  object \n",
      " 13  rawcensustractandblock        52441 non-null  float64\n",
      " 14  regionidcity                  51404 non-null  float64\n",
      " 15  regionidcounty                52441 non-null  float64\n",
      " 16  regionidzip                   52415 non-null  float64\n",
      " 17  roomcnt                       52441 non-null  float64\n",
      " 18  yearbuilt                     52325 non-null  float64\n",
      " 19  taxvaluedollarcnt             52440 non-null  float64\n",
      " 20  assessmentyear                52441 non-null  float64\n",
      " 21  censustractandblock           52318 non-null  float64\n",
      " 22  propertylandusedesc           52441 non-null  object \n",
      " 23  logerror                      52441 non-null  float64\n",
      " 24  transactiondate               52441 non-null  object \n",
      "dtypes: float64(21), int64(1), object(3)\n",
      "memory usage: 10.0+ MB\n"
     ]
    }
   ],
   "source": [
    "zillow_l.info()"
   ]
  },
  {
   "cell_type": "code",
   "execution_count": 92,
   "id": "e89a48eb",
   "metadata": {},
   "outputs": [
    {
     "name": "stdout",
     "output_type": "stream",
     "text": [
      "<class 'pandas.core.frame.DataFrame'>\n",
      "Int64Index: 52358 entries, 0 to 52440\n",
      "Data columns (total 4 columns):\n",
      " #   Column     Non-Null Count  Dtype  \n",
      "---  ------     --------------  -----  \n",
      " 0   bedrooms   52358 non-null  float64\n",
      " 1   bathrooms  52358 non-null  float64\n",
      " 2   area       52358 non-null  float64\n",
      " 3   tax_value  52358 non-null  float64\n",
      "dtypes: float64(4)\n",
      "memory usage: 2.0 MB\n"
     ]
    }
   ],
   "source": [
    "zillow.info()"
   ]
  },
  {
   "cell_type": "code",
   "execution_count": 98,
   "id": "b73cad1d",
   "metadata": {},
   "outputs": [
    {
     "ename": "KeyError",
     "evalue": "\"['id'] not found in axis\"",
     "output_type": "error",
     "traceback": [
      "\u001b[0;31m---------------------------------------------------------------------------\u001b[0m",
      "\u001b[0;31mKeyError\u001b[0m                                  Traceback (most recent call last)",
      "\u001b[0;32m/var/folders/pt/3m3r1rq55pdgzpmnqzkdjb240000gn/T/ipykernel_3321/1613028253.py\u001b[0m in \u001b[0;36m<module>\u001b[0;34m\u001b[0m\n\u001b[0;32m----> 1\u001b[0;31m \u001b[0mzillow_l\u001b[0m \u001b[0;34m=\u001b[0m \u001b[0mzillow_l\u001b[0m\u001b[0;34m.\u001b[0m\u001b[0mdrop\u001b[0m\u001b[0;34m(\u001b[0m\u001b[0mcolumns\u001b[0m \u001b[0;34m=\u001b[0m \u001b[0;34m'id'\u001b[0m\u001b[0;34m)\u001b[0m\u001b[0;34m\u001b[0m\u001b[0;34m\u001b[0m\u001b[0m\n\u001b[0m",
      "\u001b[0;32m/opt/homebrew/anaconda3/lib/python3.9/site-packages/pandas/util/_decorators.py\u001b[0m in \u001b[0;36mwrapper\u001b[0;34m(*args, **kwargs)\u001b[0m\n\u001b[1;32m    309\u001b[0m                     \u001b[0mstacklevel\u001b[0m\u001b[0;34m=\u001b[0m\u001b[0mstacklevel\u001b[0m\u001b[0;34m,\u001b[0m\u001b[0;34m\u001b[0m\u001b[0;34m\u001b[0m\u001b[0m\n\u001b[1;32m    310\u001b[0m                 )\n\u001b[0;32m--> 311\u001b[0;31m             \u001b[0;32mreturn\u001b[0m \u001b[0mfunc\u001b[0m\u001b[0;34m(\u001b[0m\u001b[0;34m*\u001b[0m\u001b[0margs\u001b[0m\u001b[0;34m,\u001b[0m \u001b[0;34m**\u001b[0m\u001b[0mkwargs\u001b[0m\u001b[0;34m)\u001b[0m\u001b[0;34m\u001b[0m\u001b[0;34m\u001b[0m\u001b[0m\n\u001b[0m\u001b[1;32m    312\u001b[0m \u001b[0;34m\u001b[0m\u001b[0m\n\u001b[1;32m    313\u001b[0m         \u001b[0;32mreturn\u001b[0m \u001b[0mwrapper\u001b[0m\u001b[0;34m\u001b[0m\u001b[0;34m\u001b[0m\u001b[0m\n",
      "\u001b[0;32m/opt/homebrew/anaconda3/lib/python3.9/site-packages/pandas/core/frame.py\u001b[0m in \u001b[0;36mdrop\u001b[0;34m(self, labels, axis, index, columns, level, inplace, errors)\u001b[0m\n\u001b[1;32m   4904\u001b[0m                 \u001b[0mweight\u001b[0m  \u001b[0;36m1.0\u001b[0m     \u001b[0;36m0.8\u001b[0m\u001b[0;34m\u001b[0m\u001b[0;34m\u001b[0m\u001b[0m\n\u001b[1;32m   4905\u001b[0m         \"\"\"\n\u001b[0;32m-> 4906\u001b[0;31m         return super().drop(\n\u001b[0m\u001b[1;32m   4907\u001b[0m             \u001b[0mlabels\u001b[0m\u001b[0;34m=\u001b[0m\u001b[0mlabels\u001b[0m\u001b[0;34m,\u001b[0m\u001b[0;34m\u001b[0m\u001b[0;34m\u001b[0m\u001b[0m\n\u001b[1;32m   4908\u001b[0m             \u001b[0maxis\u001b[0m\u001b[0;34m=\u001b[0m\u001b[0maxis\u001b[0m\u001b[0;34m,\u001b[0m\u001b[0;34m\u001b[0m\u001b[0;34m\u001b[0m\u001b[0m\n",
      "\u001b[0;32m/opt/homebrew/anaconda3/lib/python3.9/site-packages/pandas/core/generic.py\u001b[0m in \u001b[0;36mdrop\u001b[0;34m(self, labels, axis, index, columns, level, inplace, errors)\u001b[0m\n\u001b[1;32m   4148\u001b[0m         \u001b[0;32mfor\u001b[0m \u001b[0maxis\u001b[0m\u001b[0;34m,\u001b[0m \u001b[0mlabels\u001b[0m \u001b[0;32min\u001b[0m \u001b[0maxes\u001b[0m\u001b[0;34m.\u001b[0m\u001b[0mitems\u001b[0m\u001b[0;34m(\u001b[0m\u001b[0;34m)\u001b[0m\u001b[0;34m:\u001b[0m\u001b[0;34m\u001b[0m\u001b[0;34m\u001b[0m\u001b[0m\n\u001b[1;32m   4149\u001b[0m             \u001b[0;32mif\u001b[0m \u001b[0mlabels\u001b[0m \u001b[0;32mis\u001b[0m \u001b[0;32mnot\u001b[0m \u001b[0;32mNone\u001b[0m\u001b[0;34m:\u001b[0m\u001b[0;34m\u001b[0m\u001b[0;34m\u001b[0m\u001b[0m\n\u001b[0;32m-> 4150\u001b[0;31m                 \u001b[0mobj\u001b[0m \u001b[0;34m=\u001b[0m \u001b[0mobj\u001b[0m\u001b[0;34m.\u001b[0m\u001b[0m_drop_axis\u001b[0m\u001b[0;34m(\u001b[0m\u001b[0mlabels\u001b[0m\u001b[0;34m,\u001b[0m \u001b[0maxis\u001b[0m\u001b[0;34m,\u001b[0m \u001b[0mlevel\u001b[0m\u001b[0;34m=\u001b[0m\u001b[0mlevel\u001b[0m\u001b[0;34m,\u001b[0m \u001b[0merrors\u001b[0m\u001b[0;34m=\u001b[0m\u001b[0merrors\u001b[0m\u001b[0;34m)\u001b[0m\u001b[0;34m\u001b[0m\u001b[0;34m\u001b[0m\u001b[0m\n\u001b[0m\u001b[1;32m   4151\u001b[0m \u001b[0;34m\u001b[0m\u001b[0m\n\u001b[1;32m   4152\u001b[0m         \u001b[0;32mif\u001b[0m \u001b[0minplace\u001b[0m\u001b[0;34m:\u001b[0m\u001b[0;34m\u001b[0m\u001b[0;34m\u001b[0m\u001b[0m\n",
      "\u001b[0;32m/opt/homebrew/anaconda3/lib/python3.9/site-packages/pandas/core/generic.py\u001b[0m in \u001b[0;36m_drop_axis\u001b[0;34m(self, labels, axis, level, errors)\u001b[0m\n\u001b[1;32m   4183\u001b[0m                 \u001b[0mnew_axis\u001b[0m \u001b[0;34m=\u001b[0m \u001b[0maxis\u001b[0m\u001b[0;34m.\u001b[0m\u001b[0mdrop\u001b[0m\u001b[0;34m(\u001b[0m\u001b[0mlabels\u001b[0m\u001b[0;34m,\u001b[0m \u001b[0mlevel\u001b[0m\u001b[0;34m=\u001b[0m\u001b[0mlevel\u001b[0m\u001b[0;34m,\u001b[0m \u001b[0merrors\u001b[0m\u001b[0;34m=\u001b[0m\u001b[0merrors\u001b[0m\u001b[0;34m)\u001b[0m\u001b[0;34m\u001b[0m\u001b[0;34m\u001b[0m\u001b[0m\n\u001b[1;32m   4184\u001b[0m             \u001b[0;32melse\u001b[0m\u001b[0;34m:\u001b[0m\u001b[0;34m\u001b[0m\u001b[0;34m\u001b[0m\u001b[0m\n\u001b[0;32m-> 4185\u001b[0;31m                 \u001b[0mnew_axis\u001b[0m \u001b[0;34m=\u001b[0m \u001b[0maxis\u001b[0m\u001b[0;34m.\u001b[0m\u001b[0mdrop\u001b[0m\u001b[0;34m(\u001b[0m\u001b[0mlabels\u001b[0m\u001b[0;34m,\u001b[0m \u001b[0merrors\u001b[0m\u001b[0;34m=\u001b[0m\u001b[0merrors\u001b[0m\u001b[0;34m)\u001b[0m\u001b[0;34m\u001b[0m\u001b[0;34m\u001b[0m\u001b[0m\n\u001b[0m\u001b[1;32m   4186\u001b[0m             \u001b[0mresult\u001b[0m \u001b[0;34m=\u001b[0m \u001b[0mself\u001b[0m\u001b[0;34m.\u001b[0m\u001b[0mreindex\u001b[0m\u001b[0;34m(\u001b[0m\u001b[0;34m**\u001b[0m\u001b[0;34m{\u001b[0m\u001b[0maxis_name\u001b[0m\u001b[0;34m:\u001b[0m \u001b[0mnew_axis\u001b[0m\u001b[0;34m}\u001b[0m\u001b[0;34m)\u001b[0m\u001b[0;34m\u001b[0m\u001b[0;34m\u001b[0m\u001b[0m\n\u001b[1;32m   4187\u001b[0m \u001b[0;34m\u001b[0m\u001b[0m\n",
      "\u001b[0;32m/opt/homebrew/anaconda3/lib/python3.9/site-packages/pandas/core/indexes/base.py\u001b[0m in \u001b[0;36mdrop\u001b[0;34m(self, labels, errors)\u001b[0m\n\u001b[1;32m   6015\u001b[0m         \u001b[0;32mif\u001b[0m \u001b[0mmask\u001b[0m\u001b[0;34m.\u001b[0m\u001b[0many\u001b[0m\u001b[0;34m(\u001b[0m\u001b[0;34m)\u001b[0m\u001b[0;34m:\u001b[0m\u001b[0;34m\u001b[0m\u001b[0;34m\u001b[0m\u001b[0m\n\u001b[1;32m   6016\u001b[0m             \u001b[0;32mif\u001b[0m \u001b[0merrors\u001b[0m \u001b[0;34m!=\u001b[0m \u001b[0;34m\"ignore\"\u001b[0m\u001b[0;34m:\u001b[0m\u001b[0;34m\u001b[0m\u001b[0;34m\u001b[0m\u001b[0m\n\u001b[0;32m-> 6017\u001b[0;31m                 \u001b[0;32mraise\u001b[0m \u001b[0mKeyError\u001b[0m\u001b[0;34m(\u001b[0m\u001b[0;34mf\"{labels[mask]} not found in axis\"\u001b[0m\u001b[0;34m)\u001b[0m\u001b[0;34m\u001b[0m\u001b[0;34m\u001b[0m\u001b[0m\n\u001b[0m\u001b[1;32m   6018\u001b[0m             \u001b[0mindexer\u001b[0m \u001b[0;34m=\u001b[0m \u001b[0mindexer\u001b[0m\u001b[0;34m[\u001b[0m\u001b[0;34m~\u001b[0m\u001b[0mmask\u001b[0m\u001b[0;34m]\u001b[0m\u001b[0;34m\u001b[0m\u001b[0;34m\u001b[0m\u001b[0m\n\u001b[1;32m   6019\u001b[0m         \u001b[0;32mreturn\u001b[0m \u001b[0mself\u001b[0m\u001b[0;34m.\u001b[0m\u001b[0mdelete\u001b[0m\u001b[0;34m(\u001b[0m\u001b[0mindexer\u001b[0m\u001b[0;34m)\u001b[0m\u001b[0;34m\u001b[0m\u001b[0;34m\u001b[0m\u001b[0m\n",
      "\u001b[0;31mKeyError\u001b[0m: \"['id'] not found in axis\""
     ]
    }
   ],
   "source": [
    "zillow_l = zillow_l.drop(columns = 'id')"
   ]
  },
  {
   "cell_type": "code",
   "execution_count": 102,
   "id": "2af97260",
   "metadata": {},
   "outputs": [
    {
     "name": "stdout",
     "output_type": "stream",
     "text": [
      "<class 'pandas.core.frame.DataFrame'>\n",
      "RangeIndex: 52441 entries, 0 to 52440\n",
      "Data columns (total 25 columns):\n",
      " #   Column                        Non-Null Count  Dtype  \n",
      "---  ------                        --------------  -----  \n",
      " 0   parcelid                      52441 non-null  int64  \n",
      " 1   propertylandusetypeid         52441 non-null  float64\n",
      " 2   bathroomcnt                   52441 non-null  float64\n",
      " 3   bedroomcnt                    52441 non-null  float64\n",
      " 4   calculatedbathnbr             52304 non-null  float64\n",
      " 5   calculatedfinishedsquarefeet  52359 non-null  float64\n",
      " 6   finishedsquarefeet12          52194 non-null  float64\n",
      " 7   fips                          52441 non-null  float64\n",
      " 8   fullbathcnt                   52304 non-null  float64\n",
      " 9   latitude                      52441 non-null  float64\n",
      " 10  longitude                     52441 non-null  float64\n",
      " 11  lotsizesquarefeet             52072 non-null  float64\n",
      " 12  propertycountylandusecode     52441 non-null  object \n",
      " 13  rawcensustractandblock        52441 non-null  float64\n",
      " 14  regionidcity                  51404 non-null  float64\n",
      " 15  regionidcounty                52441 non-null  float64\n",
      " 16  regionidzip                   52415 non-null  float64\n",
      " 17  roomcnt                       52441 non-null  float64\n",
      " 18  yearbuilt                     52325 non-null  float64\n",
      " 19  taxvaluedollarcnt             52440 non-null  float64\n",
      " 20  assessmentyear                52441 non-null  float64\n",
      " 21  censustractandblock           52318 non-null  float64\n",
      " 22  propertylandusedesc           52441 non-null  object \n",
      " 23  logerror                      52441 non-null  float64\n",
      " 24  transactiondate               52441 non-null  object \n",
      "dtypes: float64(21), int64(1), object(3)\n",
      "memory usage: 10.0+ MB\n"
     ]
    }
   ],
   "source": [
    "zillow_l.info()"
   ]
  },
  {
   "cell_type": "code",
   "execution_count": 103,
   "id": "15e40bcd",
   "metadata": {},
   "outputs": [
    {
     "data": {
      "text/plain": [
       "parcelid                           0\n",
       "propertylandusetypeid              0\n",
       "bathroomcnt                        0\n",
       "bedroomcnt                         0\n",
       "calculatedbathnbr                137\n",
       "calculatedfinishedsquarefeet      82\n",
       "finishedsquarefeet12             247\n",
       "fips                               0\n",
       "fullbathcnt                      137\n",
       "latitude                           0\n",
       "longitude                          0\n",
       "lotsizesquarefeet                369\n",
       "propertycountylandusecode          0\n",
       "rawcensustractandblock             0\n",
       "regionidcity                    1037\n",
       "regionidcounty                     0\n",
       "regionidzip                       26\n",
       "roomcnt                            0\n",
       "yearbuilt                        116\n",
       "taxvaluedollarcnt                  1\n",
       "assessmentyear                     0\n",
       "censustractandblock              123\n",
       "propertylandusedesc                0\n",
       "logerror                           0\n",
       "transactiondate                    0\n",
       "dtype: int64"
      ]
     },
     "execution_count": 103,
     "metadata": {},
     "output_type": "execute_result"
    }
   ],
   "source": [
    "zillow_l.isnull().sum()"
   ]
  },
  {
   "cell_type": "code",
   "execution_count": 104,
   "id": "279e2acf",
   "metadata": {},
   "outputs": [],
   "source": [
    "# The amount of NaN values is a small % of total rows, or redundant in nature (regionidcity). Will drop all NaNs\n",
    "zillow_l = zillow_l.dropna()"
   ]
  },
  {
   "cell_type": "code",
   "execution_count": 105,
   "id": "4e6bed2d",
   "metadata": {},
   "outputs": [
    {
     "data": {
      "text/plain": [
       "parcelid                        0\n",
       "propertylandusetypeid           0\n",
       "bathroomcnt                     0\n",
       "bedroomcnt                      0\n",
       "calculatedbathnbr               0\n",
       "calculatedfinishedsquarefeet    0\n",
       "finishedsquarefeet12            0\n",
       "fips                            0\n",
       "fullbathcnt                     0\n",
       "latitude                        0\n",
       "longitude                       0\n",
       "lotsizesquarefeet               0\n",
       "propertycountylandusecode       0\n",
       "rawcensustractandblock          0\n",
       "regionidcity                    0\n",
       "regionidcounty                  0\n",
       "regionidzip                     0\n",
       "roomcnt                         0\n",
       "yearbuilt                       0\n",
       "taxvaluedollarcnt               0\n",
       "assessmentyear                  0\n",
       "censustractandblock             0\n",
       "propertylandusedesc             0\n",
       "logerror                        0\n",
       "transactiondate                 0\n",
       "dtype: int64"
      ]
     },
     "execution_count": 105,
     "metadata": {},
     "output_type": "execute_result"
    }
   ],
   "source": [
    "zillow_l.isnull().sum()"
   ]
  },
  {
   "cell_type": "code",
   "execution_count": 106,
   "id": "abd8686c",
   "metadata": {},
   "outputs": [
    {
     "name": "stdout",
     "output_type": "stream",
     "text": [
      "<class 'pandas.core.frame.DataFrame'>\n",
      "Int64Index: 50735 entries, 0 to 52440\n",
      "Data columns (total 25 columns):\n",
      " #   Column                        Non-Null Count  Dtype  \n",
      "---  ------                        --------------  -----  \n",
      " 0   parcelid                      50735 non-null  int64  \n",
      " 1   propertylandusetypeid         50735 non-null  float64\n",
      " 2   bathroomcnt                   50735 non-null  float64\n",
      " 3   bedroomcnt                    50735 non-null  float64\n",
      " 4   calculatedbathnbr             50735 non-null  float64\n",
      " 5   calculatedfinishedsquarefeet  50735 non-null  float64\n",
      " 6   finishedsquarefeet12          50735 non-null  float64\n",
      " 7   fips                          50735 non-null  float64\n",
      " 8   fullbathcnt                   50735 non-null  float64\n",
      " 9   latitude                      50735 non-null  float64\n",
      " 10  longitude                     50735 non-null  float64\n",
      " 11  lotsizesquarefeet             50735 non-null  float64\n",
      " 12  propertycountylandusecode     50735 non-null  object \n",
      " 13  rawcensustractandblock        50735 non-null  float64\n",
      " 14  regionidcity                  50735 non-null  float64\n",
      " 15  regionidcounty                50735 non-null  float64\n",
      " 16  regionidzip                   50735 non-null  float64\n",
      " 17  roomcnt                       50735 non-null  float64\n",
      " 18  yearbuilt                     50735 non-null  float64\n",
      " 19  taxvaluedollarcnt             50735 non-null  float64\n",
      " 20  assessmentyear                50735 non-null  float64\n",
      " 21  censustractandblock           50735 non-null  float64\n",
      " 22  propertylandusedesc           50735 non-null  object \n",
      " 23  logerror                      50735 non-null  float64\n",
      " 24  transactiondate               50735 non-null  object \n",
      "dtypes: float64(21), int64(1), object(3)\n",
      "memory usage: 10.1+ MB\n"
     ]
    }
   ],
   "source": [
    "zillow_l.info()"
   ]
  },
  {
   "cell_type": "code",
   "execution_count": 115,
   "id": "6e8acce2",
   "metadata": {},
   "outputs": [
    {
     "data": {
      "text/plain": [
       "3.0     22880\n",
       "4.0     14723\n",
       "2.0      8073\n",
       "5.0      3758\n",
       "6.0       603\n",
       "1.0       536\n",
       "7.0       101\n",
       "0.0        27\n",
       "8.0        23\n",
       "9.0         8\n",
       "10.0        2\n",
       "11.0        1\n",
       "Name: bedroomcnt, dtype: int64"
      ]
     },
     "execution_count": 115,
     "metadata": {},
     "output_type": "execute_result"
    }
   ],
   "source": [
    "zillow_l.bedroomcnt.value_counts()"
   ]
  },
  {
   "cell_type": "code",
   "execution_count": 120,
   "id": "d95a28e3",
   "metadata": {},
   "outputs": [
    {
     "data": {
      "text/plain": [
       "2017-06-30    780\n",
       "2017-04-28    594\n",
       "2017-05-31    550\n",
       "2017-07-28    527\n",
       "2017-08-31    514\n",
       "             ... \n",
       "2017-05-07      1\n",
       "2017-05-13      1\n",
       "2017-05-20      1\n",
       "2017-06-11      1\n",
       "2017-09-25      1\n",
       "Name: transactiondate, Length: 257, dtype: int64"
      ]
     },
     "execution_count": 120,
     "metadata": {},
     "output_type": "execute_result"
    }
   ],
   "source": [
    "zillow_l.transactiondate.value_counts()"
   ]
  },
  {
   "cell_type": "code",
   "execution_count": 121,
   "id": "54a6588e",
   "metadata": {},
   "outputs": [],
   "source": [
    "zillow_l = zillow_l.drop(columns = ['parcelid', 'propertylandusetypeid', 'calculatedbathnbr', 'finishedsquarefeet12', 'fullbathcnt',\n",
    "                            'latitude', 'longitude', 'propertycountylandusecode', 'rawcensustractandblock',\n",
    "                            'roomcnt', 'regionidzip', 'assessmentyear', 'censustractandblock', 'logerror'])"
   ]
  },
  {
   "cell_type": "code",
   "execution_count": 122,
   "id": "c799b7ec",
   "metadata": {},
   "outputs": [
    {
     "name": "stdout",
     "output_type": "stream",
     "text": [
      "<class 'pandas.core.frame.DataFrame'>\n",
      "Int64Index: 50735 entries, 0 to 52440\n",
      "Data columns (total 11 columns):\n",
      " #   Column                        Non-Null Count  Dtype  \n",
      "---  ------                        --------------  -----  \n",
      " 0   bathroomcnt                   50735 non-null  float64\n",
      " 1   bedroomcnt                    50735 non-null  float64\n",
      " 2   calculatedfinishedsquarefeet  50735 non-null  float64\n",
      " 3   fips                          50735 non-null  float64\n",
      " 4   lotsizesquarefeet             50735 non-null  float64\n",
      " 5   regionidcity                  50735 non-null  float64\n",
      " 6   regionidcounty                50735 non-null  float64\n",
      " 7   yearbuilt                     50735 non-null  float64\n",
      " 8   taxvaluedollarcnt             50735 non-null  float64\n",
      " 9   propertylandusedesc           50735 non-null  object \n",
      " 10  transactiondate               50735 non-null  object \n",
      "dtypes: float64(9), object(2)\n",
      "memory usage: 4.6+ MB\n"
     ]
    }
   ],
   "source": [
    "zillow_l.info()"
   ]
  },
  {
   "cell_type": "code",
   "execution_count": 124,
   "id": "15032e81",
   "metadata": {},
   "outputs": [],
   "source": [
    "zillow_l = zillow_l.drop(columns = 'propertylandusedesc')"
   ]
  },
  {
   "cell_type": "code",
   "execution_count": 128,
   "id": "02667db5",
   "metadata": {},
   "outputs": [
    {
     "data": {
      "text/plain": [
       "175"
      ]
     },
     "execution_count": 128,
     "metadata": {},
     "output_type": "execute_result"
    }
   ],
   "source": [
    "zillow_l.regionidcity.nunique()"
   ]
  },
  {
   "cell_type": "code",
   "execution_count": 142,
   "id": "7a66f9e0",
   "metadata": {},
   "outputs": [
    {
     "data": {
      "text/plain": [
       "12447.0    11338\n",
       "5534.0      1762\n",
       "40227.0     1486\n",
       "46298.0     1424\n",
       "16764.0     1070\n",
       "           ...  \n",
       "32927.0        3\n",
       "31134.0        2\n",
       "36078.0        1\n",
       "10815.0        1\n",
       "21395.0        1\n",
       "Name: regionidcity, Length: 175, dtype: int64"
      ]
     },
     "execution_count": 142,
     "metadata": {},
     "output_type": "execute_result"
    }
   ],
   "source": [
    "zillow_l.regionidcity.value_counts(ascending=False)"
   ]
  },
  {
   "cell_type": "code",
   "execution_count": 132,
   "id": "71cb51bb",
   "metadata": {},
   "outputs": [
    {
     "data": {
      "text/plain": [
       "3101.0    32875\n",
       "1286.0    13529\n",
       "2061.0     4331\n",
       "Name: regionidcounty, dtype: int64"
      ]
     },
     "execution_count": 132,
     "metadata": {},
     "output_type": "execute_result"
    }
   ],
   "source": [
    "zillow_l.regionidcounty.value_counts()"
   ]
  },
  {
   "cell_type": "code",
   "execution_count": 137,
   "id": "2a3cf749",
   "metadata": {},
   "outputs": [],
   "source": [
    "zillow_l = zillow_l.drop(columns = 'regionidcounty')"
   ]
  },
  {
   "cell_type": "code",
   "execution_count": 138,
   "id": "d1ab9b66",
   "metadata": {},
   "outputs": [
    {
     "name": "stdout",
     "output_type": "stream",
     "text": [
      "<class 'pandas.core.frame.DataFrame'>\n",
      "Int64Index: 50735 entries, 0 to 52440\n",
      "Data columns (total 9 columns):\n",
      " #   Column                        Non-Null Count  Dtype  \n",
      "---  ------                        --------------  -----  \n",
      " 0   bathroomcnt                   50735 non-null  float64\n",
      " 1   bedroomcnt                    50735 non-null  float64\n",
      " 2   calculatedfinishedsquarefeet  50735 non-null  float64\n",
      " 3   fips                          50735 non-null  float64\n",
      " 4   lotsizesquarefeet             50735 non-null  float64\n",
      " 5   regionidcity                  50735 non-null  float64\n",
      " 6   yearbuilt                     50735 non-null  float64\n",
      " 7   taxvaluedollarcnt             50735 non-null  float64\n",
      " 8   transactiondate               50735 non-null  object \n",
      "dtypes: float64(8), object(1)\n",
      "memory usage: 3.9+ MB\n"
     ]
    }
   ],
   "source": [
    "zillow_l.info()"
   ]
  },
  {
   "cell_type": "code",
   "execution_count": 139,
   "id": "40983027",
   "metadata": {},
   "outputs": [
    {
     "data": {
      "text/plain": [
       "0     4506.0\n",
       "1    12647.0\n",
       "2     8432.0\n",
       "3    13038.0\n",
       "4    63000.0\n",
       "Name: lotsizesquarefeet, dtype: float64"
      ]
     },
     "execution_count": 139,
     "metadata": {},
     "output_type": "execute_result"
    }
   ],
   "source": [
    "zillow_l.lotsizesquarefeet.head()"
   ]
  },
  {
   "cell_type": "code",
   "execution_count": 140,
   "id": "9c9db950",
   "metadata": {},
   "outputs": [
    {
     "data": {
      "text/plain": [
       "0    3100.0\n",
       "1    1465.0\n",
       "2    1243.0\n",
       "3    2376.0\n",
       "4    2962.0\n",
       "Name: calculatedfinishedsquarefeet, dtype: float64"
      ]
     },
     "execution_count": 140,
     "metadata": {},
     "output_type": "execute_result"
    }
   ],
   "source": [
    "zillow_l.calculatedfinishedsquarefeet.head()"
   ]
  },
  {
   "cell_type": "code",
   "execution_count": null,
   "id": "5319f3e4",
   "metadata": {},
   "outputs": [],
   "source": []
  }
 ],
 "metadata": {
  "kernelspec": {
   "display_name": "Python 3.9.7 64-bit ('base': conda)",
   "language": "python",
   "name": "python397jvsc74a57bd038cca0c38332a56087b24af0bc80247f4fced29cb4f7f437d91dc159adec9c4e"
  },
  "language_info": {
   "codemirror_mode": {
    "name": "ipython",
    "version": 3
   },
   "file_extension": ".py",
   "mimetype": "text/x-python",
   "name": "python",
   "nbconvert_exporter": "python",
   "pygments_lexer": "ipython3",
   "version": "3.9.7"
  }
 },
 "nbformat": 4,
 "nbformat_minor": 5
}
