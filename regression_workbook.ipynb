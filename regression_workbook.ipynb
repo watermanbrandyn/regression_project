{
 "cells": [
  {
   "cell_type": "code",
   "execution_count": 1,
   "id": "a12a6791",
   "metadata": {},
   "outputs": [],
   "source": [
    "# files/modules\n",
    "from env import host, user, password\n",
    "import acquire as a\n",
    "\n",
    "# manipulations\n",
    "import pandas as pd\n",
    "import numpy as np\n",
    "\n",
    "# Viz\n",
    "import matplotlib.pyplot as plt\n",
    "import seaborn as sns"
   ]
  },
  {
   "cell_type": "markdown",
   "id": "db1da113",
   "metadata": {},
   "source": [
    "## Acquire\n",
    "'Basic' columns and then all of the columns for Zillow data (that meets parameters)"
   ]
  },
  {
   "cell_type": "code",
   "execution_count": 2,
   "id": "75b6b444",
   "metadata": {},
   "outputs": [
    {
     "name": "stdout",
     "output_type": "stream",
     "text": [
      "Acquiring data from SQL db\n"
     ]
    }
   ],
   "source": [
    "zillow = a.basic_acquire_zillow()"
   ]
  },
  {
   "cell_type": "code",
   "execution_count": 3,
   "id": "1a697997",
   "metadata": {},
   "outputs": [
    {
     "name": "stdout",
     "output_type": "stream",
     "text": [
      "<class 'pandas.core.frame.DataFrame'>\n",
      "RangeIndex: 52441 entries, 0 to 52440\n",
      "Data columns (total 4 columns):\n",
      " #   Column     Non-Null Count  Dtype  \n",
      "---  ------     --------------  -----  \n",
      " 0   bedrooms   52441 non-null  float64\n",
      " 1   bathrooms  52441 non-null  float64\n",
      " 2   area       52359 non-null  float64\n",
      " 3   tax_value  52440 non-null  float64\n",
      "dtypes: float64(4)\n",
      "memory usage: 1.6 MB\n"
     ]
    }
   ],
   "source": [
    "zillow.info()"
   ]
  },
  {
   "cell_type": "code",
   "execution_count": 4,
   "id": "242a1060",
   "metadata": {},
   "outputs": [
    {
     "name": "stdout",
     "output_type": "stream",
     "text": [
      "Acquiring data from SQL db\n"
     ]
    }
   ],
   "source": [
    "zillow_l = a.larger_acquire_zillow()"
   ]
  },
  {
   "cell_type": "code",
   "execution_count": 5,
   "id": "f9506300",
   "metadata": {},
   "outputs": [
    {
     "name": "stdout",
     "output_type": "stream",
     "text": [
      "<class 'pandas.core.frame.DataFrame'>\n",
      "RangeIndex: 52441 entries, 0 to 52440\n",
      "Data columns (total 63 columns):\n",
      " #   Column                        Non-Null Count  Dtype  \n",
      "---  ------                        --------------  -----  \n",
      " 0   parcelid                      52441 non-null  int64  \n",
      " 1   propertylandusetypeid         52441 non-null  float64\n",
      " 2   id                            52441 non-null  int64  \n",
      " 3   airconditioningtypeid         13638 non-null  float64\n",
      " 4   architecturalstyletypeid      70 non-null     float64\n",
      " 5   basementsqft                  47 non-null     float64\n",
      " 6   bathroomcnt                   52441 non-null  float64\n",
      " 7   bedroomcnt                    52441 non-null  float64\n",
      " 8   buildingclasstypeid           0 non-null      object \n",
      " 9   buildingqualitytypeid         33740 non-null  float64\n",
      " 10  calculatedbathnbr             52304 non-null  float64\n",
      " 11  decktypeid                    389 non-null    float64\n",
      " 12  finishedfloor1squarefeet      4381 non-null   float64\n",
      " 13  calculatedfinishedsquarefeet  52359 non-null  float64\n",
      " 14  finishedsquarefeet12          52194 non-null  float64\n",
      " 15  finishedsquarefeet13          0 non-null      object \n",
      " 16  finishedsquarefeet15          0 non-null      object \n",
      " 17  finishedsquarefeet50          4381 non-null   float64\n",
      " 18  finishedsquarefeet6           165 non-null    float64\n",
      " 19  fips                          52441 non-null  float64\n",
      " 20  fireplacecnt                  7243 non-null   float64\n",
      " 21  fullbathcnt                   52304 non-null  float64\n",
      " 22  garagecarcnt                  18015 non-null  float64\n",
      " 23  garagetotalsqft               18015 non-null  float64\n",
      " 24  hashottuborspa                1515 non-null   float64\n",
      " 25  heatingorsystemtypeid         33935 non-null  float64\n",
      " 26  latitude                      52441 non-null  float64\n",
      " 27  longitude                     52441 non-null  float64\n",
      " 28  lotsizesquarefeet             52072 non-null  float64\n",
      " 29  poolcnt                       11096 non-null  float64\n",
      " 30  poolsizesum                   867 non-null    float64\n",
      " 31  pooltypeid10                  444 non-null    float64\n",
      " 32  pooltypeid2                   1071 non-null   float64\n",
      " 33  pooltypeid7                   10009 non-null  float64\n",
      " 34  propertycountylandusecode     52441 non-null  object \n",
      " 35  propertyzoningdesc            33848 non-null  object \n",
      " 36  rawcensustractandblock        52441 non-null  float64\n",
      " 37  regionidcity                  51404 non-null  float64\n",
      " 38  regionidcounty                52441 non-null  float64\n",
      " 39  regionidneighborhood          19033 non-null  float64\n",
      " 40  regionidzip                   52415 non-null  float64\n",
      " 41  roomcnt                       52441 non-null  float64\n",
      " 42  storytypeid                   47 non-null     float64\n",
      " 43  threequarterbathnbr           6724 non-null   float64\n",
      " 44  typeconstructiontypeid        76 non-null     float64\n",
      " 45  unitcnt                       33847 non-null  float64\n",
      " 46  yardbuildingsqft17            1937 non-null   float64\n",
      " 47  yardbuildingsqft26            63 non-null     float64\n",
      " 48  yearbuilt                     52325 non-null  float64\n",
      " 49  numberofstories               14561 non-null  float64\n",
      " 50  fireplaceflag                 81 non-null     float64\n",
      " 51  structuretaxvaluedollarcnt    52357 non-null  float64\n",
      " 52  taxvaluedollarcnt             52440 non-null  float64\n",
      " 53  assessmentyear                52441 non-null  float64\n",
      " 54  landtaxvaluedollarcnt         52440 non-null  float64\n",
      " 55  taxamount                     52437 non-null  float64\n",
      " 56  taxdelinquencyflag            2079 non-null   object \n",
      " 57  taxdelinquencyyear            2079 non-null   float64\n",
      " 58  censustractandblock           52318 non-null  float64\n",
      " 59  propertylandusedesc           52441 non-null  object \n",
      " 60  id                            52441 non-null  int64  \n",
      " 61  logerror                      52441 non-null  float64\n",
      " 62  transactiondate               52441 non-null  object \n",
      "dtypes: float64(52), int64(3), object(8)\n",
      "memory usage: 25.2+ MB\n"
     ]
    }
   ],
   "source": [
    "zillow_l.info()"
   ]
  },
  {
   "cell_type": "markdown",
   "id": "657b464c",
   "metadata": {},
   "source": [
    "## Preparation/Splitting\n"
   ]
  },
  {
   "cell_type": "code",
   "execution_count": 8,
   "id": "82e3a218",
   "metadata": {},
   "outputs": [
    {
     "data": {
      "text/plain": [
       "bedrooms      0\n",
       "bathrooms     0\n",
       "area         82\n",
       "tax_value     1\n",
       "dtype: int64"
      ]
     },
     "execution_count": 8,
     "metadata": {},
     "output_type": "execute_result"
    }
   ],
   "source": [
    "# looking at null counts\n",
    "zillow.isnull().sum()"
   ]
  },
  {
   "cell_type": "code",
   "execution_count": 9,
   "id": "a75d9a4c",
   "metadata": {},
   "outputs": [
    {
     "data": {
      "text/plain": [
       "parcelid                        0\n",
       "propertylandusetypeid           0\n",
       "id                              0\n",
       "airconditioningtypeid       38803\n",
       "architecturalstyletypeid    52371\n",
       "                            ...  \n",
       "censustractandblock           123\n",
       "propertylandusedesc             0\n",
       "id                              0\n",
       "logerror                        0\n",
       "transactiondate                 0\n",
       "Length: 63, dtype: int64"
      ]
     },
     "execution_count": 9,
     "metadata": {},
     "output_type": "execute_result"
    }
   ],
   "source": [
    "zillow_l.isnull().sum()"
   ]
  },
  {
   "cell_type": "code",
   "execution_count": 10,
   "id": "7faff23b",
   "metadata": {},
   "outputs": [],
   "source": [
    "# The nulls for aircondition and architecture are so large, going to drop columns entirely. Also dropping \n",
    "# landtaxvaluedollarcnt, structuretaxvaluedollarcnt, and taxamount for target variable (taxvaluedollarcnt) integrity."
   ]
  },
  {
   "cell_type": "code",
   "execution_count": 11,
   "id": "6814dc4d",
   "metadata": {},
   "outputs": [],
   "source": [
    "zillow_l = zillow_l.drop(columns= ['airconditioningtypeid', 'architecturalstyletypeid', 'landtaxvaluedollarcnt',\n",
    "                                  'structuretaxvaluedollarcnt', 'taxamount'])"
   ]
  },
  {
   "cell_type": "code",
   "execution_count": 13,
   "id": "e528b4b7",
   "metadata": {},
   "outputs": [
    {
     "name": "stdout",
     "output_type": "stream",
     "text": [
      "<class 'pandas.core.frame.DataFrame'>\n",
      "RangeIndex: 52441 entries, 0 to 52440\n",
      "Data columns (total 58 columns):\n",
      " #   Column                        Non-Null Count  Dtype  \n",
      "---  ------                        --------------  -----  \n",
      " 0   parcelid                      52441 non-null  int64  \n",
      " 1   propertylandusetypeid         52441 non-null  float64\n",
      " 2   id                            52441 non-null  int64  \n",
      " 3   basementsqft                  47 non-null     float64\n",
      " 4   bathroomcnt                   52441 non-null  float64\n",
      " 5   bedroomcnt                    52441 non-null  float64\n",
      " 6   buildingclasstypeid           0 non-null      object \n",
      " 7   buildingqualitytypeid         33740 non-null  float64\n",
      " 8   calculatedbathnbr             52304 non-null  float64\n",
      " 9   decktypeid                    389 non-null    float64\n",
      " 10  finishedfloor1squarefeet      4381 non-null   float64\n",
      " 11  calculatedfinishedsquarefeet  52359 non-null  float64\n",
      " 12  finishedsquarefeet12          52194 non-null  float64\n",
      " 13  finishedsquarefeet13          0 non-null      object \n",
      " 14  finishedsquarefeet15          0 non-null      object \n",
      " 15  finishedsquarefeet50          4381 non-null   float64\n",
      " 16  finishedsquarefeet6           165 non-null    float64\n",
      " 17  fips                          52441 non-null  float64\n",
      " 18  fireplacecnt                  7243 non-null   float64\n",
      " 19  fullbathcnt                   52304 non-null  float64\n",
      " 20  garagecarcnt                  18015 non-null  float64\n",
      " 21  garagetotalsqft               18015 non-null  float64\n",
      " 22  hashottuborspa                1515 non-null   float64\n",
      " 23  heatingorsystemtypeid         33935 non-null  float64\n",
      " 24  latitude                      52441 non-null  float64\n",
      " 25  longitude                     52441 non-null  float64\n",
      " 26  lotsizesquarefeet             52072 non-null  float64\n",
      " 27  poolcnt                       11096 non-null  float64\n",
      " 28  poolsizesum                   867 non-null    float64\n",
      " 29  pooltypeid10                  444 non-null    float64\n",
      " 30  pooltypeid2                   1071 non-null   float64\n",
      " 31  pooltypeid7                   10009 non-null  float64\n",
      " 32  propertycountylandusecode     52441 non-null  object \n",
      " 33  propertyzoningdesc            33848 non-null  object \n",
      " 34  rawcensustractandblock        52441 non-null  float64\n",
      " 35  regionidcity                  51404 non-null  float64\n",
      " 36  regionidcounty                52441 non-null  float64\n",
      " 37  regionidneighborhood          19033 non-null  float64\n",
      " 38  regionidzip                   52415 non-null  float64\n",
      " 39  roomcnt                       52441 non-null  float64\n",
      " 40  storytypeid                   47 non-null     float64\n",
      " 41  threequarterbathnbr           6724 non-null   float64\n",
      " 42  typeconstructiontypeid        76 non-null     float64\n",
      " 43  unitcnt                       33847 non-null  float64\n",
      " 44  yardbuildingsqft17            1937 non-null   float64\n",
      " 45  yardbuildingsqft26            63 non-null     float64\n",
      " 46  yearbuilt                     52325 non-null  float64\n",
      " 47  numberofstories               14561 non-null  float64\n",
      " 48  fireplaceflag                 81 non-null     float64\n",
      " 49  taxvaluedollarcnt             52440 non-null  float64\n",
      " 50  assessmentyear                52441 non-null  float64\n",
      " 51  taxdelinquencyflag            2079 non-null   object \n",
      " 52  taxdelinquencyyear            2079 non-null   float64\n",
      " 53  censustractandblock           52318 non-null  float64\n",
      " 54  propertylandusedesc           52441 non-null  object \n",
      " 55  id                            52441 non-null  int64  \n",
      " 56  logerror                      52441 non-null  float64\n",
      " 57  transactiondate               52441 non-null  object \n",
      "dtypes: float64(47), int64(3), object(8)\n",
      "memory usage: 23.2+ MB\n"
     ]
    }
   ],
   "source": [
    "zillow_l.info()"
   ]
  },
  {
   "cell_type": "code",
   "execution_count": null,
   "id": "13ce76ab",
   "metadata": {},
   "outputs": [],
   "source": []
  }
 ],
 "metadata": {
  "kernelspec": {
   "display_name": "Python 3.9.7 64-bit ('base': conda)",
   "language": "python",
   "name": "python397jvsc74a57bd038cca0c38332a56087b24af0bc80247f4fced29cb4f7f437d91dc159adec9c4e"
  },
  "language_info": {
   "codemirror_mode": {
    "name": "ipython",
    "version": 3
   },
   "file_extension": ".py",
   "mimetype": "text/x-python",
   "name": "python",
   "nbconvert_exporter": "python",
   "pygments_lexer": "ipython3",
   "version": "3.9.7"
  }
 },
 "nbformat": 4,
 "nbformat_minor": 5
}
